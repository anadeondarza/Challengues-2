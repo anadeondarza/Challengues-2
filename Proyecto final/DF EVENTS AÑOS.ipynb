{
 "cells": [
  {
   "cell_type": "code",
   "execution_count": 2,
   "id": "df012832",
   "metadata": {},
   "outputs": [],
   "source": [
    "import requests\n",
    "import bs4\n",
    "import pandas as pd\n",
    "import re"
   ]
  },
  {
   "cell_type": "code",
   "execution_count": 2,
   "id": "dcf52ba5",
   "metadata": {},
   "outputs": [],
   "source": [
    "url = 'https://www.onthisday.com/history/date/1980#'"
   ]
  },
  {
   "cell_type": "code",
   "execution_count": 3,
   "id": "b9e6d76e",
   "metadata": {},
   "outputs": [],
   "source": [
    "r = requests.get(url)"
   ]
  },
  {
   "cell_type": "code",
   "execution_count": 4,
   "id": "4a534eaa",
   "metadata": {},
   "outputs": [],
   "source": [
    "r = r.content"
   ]
  },
  {
   "cell_type": "code",
   "execution_count": 5,
   "id": "dd78f04c",
   "metadata": {},
   "outputs": [],
   "source": [
    "parsed_html = bs4.BeautifulSoup(r, \"html.parser\") "
   ]
  },
  {
   "cell_type": "code",
   "execution_count": 6,
   "id": "0ca7d066",
   "metadata": {},
   "outputs": [
    {
     "data": {
      "text/plain": [
       "[<li class=\"event\"><a class=\"date\" href=\"/events/april/20\">Apr 20</a> Climax of Berber Spring in Algeria sees hundreds of Berber political activists arrested</li>,\n",
       " <li class=\"event\"><a class=\"date\" href=\"/events/may/5\">May 5</a> Siege at Iranian Embassy in London ends as the SAS and police storm the building</li>,\n",
       " <li class=\"event\"><a class=\"date\" href=\"/events/may/8\">May 8</a> World Health Organization announces smallpox has been eradicated</li>,\n",
       " <li class=\"event\"><a class=\"date\" href=\"/events/august/14\">Aug 14</a> 17,000 workers go on strike at the Lenin Shipyard in Gdańsk, Poland, marking the beginning of the Solidarity movement</li>,\n",
       " <li class=\"event\"><a class=\"date\" href=\"/events/september/22\">Sep 22</a> Iraq invades Iran in an attempt to control the Shatt al-Arab waterway</li>,\n",
       " <li class=\"event\"><a class=\"date\" href=\"/events/september/30\">Sep 30</a> Ethernet specifications published by Xerox working with <a href=\"/people/andrew-grove\">Intel</a> and Digital Equipment Corporation <a class=\"ref\" href=\"https://www.oreilly.com/library/view/ethernet-the-definitive/1565926609/ch01.html\" rel=\"noopener\" target=\"_blank\" title=\"Chapter 1. The Evolution of Ethernet - O’Reilly Media\">[1]</a></li>,\n",
       " <li class=\"event\"><a class=\"date\" href=\"/events/november/9\">Nov 9</a> Iraqi President <a href=\"/people/saddam-hussein\">Saddam Hussein</a> declares holy war against Iran</li>,\n",
       " <li class=\"event\"><a class=\"date\" href=\"/events/november/13\">Nov 13</a> US spacecraft Voyager 1 sends back 1st close-up pictures of Saturn during its fly-by</li>,\n",
       " <li class=\"event\"><a class=\"date\" href=\"/weddings/march/29\">Mar 29</a> 77th Prime Minister of UK <a href=\"/people/tony-blair\">Tony Blair</a> (26) weds barrister and lecturer Cherie Booth</li>,\n",
       " <li class=\"event\"><a class=\"date\" href=\"/weddings/may/1\">May 1</a> Zaire President <a href=\"/people/mobutu-sese-seko\">Mobutu Sese Seko</a> (49) weds Bobi Ladawa</li>,\n",
       " <li class=\"event\"><a class=\"date\" href=\"/weddings/may/17\">May 17</a> Navy Liaison and future politician <a href=\"/people/john-mccain\">John McCain</a> marries second wife teacher Cindy Lou Hensley</li>,\n",
       " <li class=\"event\"><a class=\"date\" href=\"/weddings/september/5\">Sep 5</a> Lawyer Kathleen St. Johns divorces best-selling author <a href=\"/people/michael-crichton\">Michael Crichton</a> (37) after nearly 2 years of marriage</li>,\n",
       " <li class=\"event\"><a class=\"date\" href=\"/weddings/october/9\">Oct 9</a> Princess Caroline of Monaco divorces Philippe Junot</li>]"
      ]
     },
     "execution_count": 6,
     "metadata": {},
     "output_type": "execute_result"
    }
   ],
   "source": [
    "titulo = parsed_html.find_all(\"li\", {\"class\": \"event\"})\n",
    "titulo"
   ]
  },
  {
   "cell_type": "code",
   "execution_count": 7,
   "id": "b3fba2d7",
   "metadata": {},
   "outputs": [
    {
     "name": "stdout",
     "output_type": "stream",
     "text": [
      "['Apr 20 Climax of Berber Spring in Algeria sees hundreds of Berber political activists arrested', 'May 5 Siege at Iranian Embassy in London ends as the SAS and police storm the building', 'May 8 World Health Organization announces smallpox has been eradicated', 'Aug 14 17,000 workers go on strike at the Lenin Shipyard in Gdańsk, Poland, marking the beginning of the Solidarity movement', 'Sep 22 Iraq invades Iran in an attempt to control the Shatt al-Arab waterway', 'Sep 30 Ethernet specifications published by Xerox working with Intel and Digital Equipment Corporation [1]', 'Nov 9 Iraqi President Saddam Hussein declares holy war against Iran', 'Nov 13 US spacecraft Voyager 1 sends back 1st close-up pictures of Saturn during its fly-by', 'Mar 29 77th Prime Minister of UK Tony Blair (26) weds barrister and lecturer Cherie Booth', 'May 1 Zaire President Mobutu Sese Seko (49) weds Bobi Ladawa', 'May 17 Navy Liaison and future politician John McCain marries second wife teacher Cindy Lou Hensley', 'Sep 5 Lawyer Kathleen St. Johns divorces best-selling author Michael Crichton (37) after nearly 2 years of marriage', 'Oct 9 Princess Caroline of Monaco divorces Philippe Junot']\n"
     ]
    }
   ],
   "source": [
    "lis_1980 = []\n",
    "for i in titulo:\n",
    "    ñ = i.get_text()\n",
    "    lis_1980.append(ñ)\n",
    "print(lis_1980)"
   ]
  },
  {
   "cell_type": "code",
   "execution_count": 8,
   "id": "d0de908f",
   "metadata": {},
   "outputs": [
    {
     "data": {
      "text/plain": [
       "['Apr 20 Climax of Berber Spring in Algeria sees hundreds of Berber political activists arrested',\n",
       " 'May 5 Siege at Iranian Embassy in London ends as the SAS and police storm the building',\n",
       " 'May 8 World Health Organization announces smallpox has been eradicated',\n",
       " 'Aug 14 17,000 workers go on strike at the Lenin Shipyard in Gdańsk, Poland, marking the beginning of the Solidarity movement',\n",
       " 'Sep 22 Iraq invades Iran in an attempt to control the Shatt al-Arab waterway',\n",
       " 'Sep 30 Ethernet specifications published by Xerox working with Intel and Digital Equipment Corporation [1]',\n",
       " 'Nov 9 Iraqi President Saddam Hussein declares holy war against Iran',\n",
       " 'Nov 13 US spacecraft Voyager 1 sends back 1st close-up pictures of Saturn during its fly-by',\n",
       " 'Mar 29 77th Prime Minister of UK Tony Blair (26) weds barrister and lecturer Cherie Booth',\n",
       " 'May 1 Zaire President Mobutu Sese Seko (49) weds Bobi Ladawa',\n",
       " 'May 17 Navy Liaison and future politician John McCain marries second wife teacher Cindy Lou Hensley',\n",
       " 'Sep 5 Lawyer Kathleen St. Johns divorces best-selling author Michael Crichton (37) after nearly 2 years of marriage',\n",
       " 'Oct 9 Princess Caroline of Monaco divorces Philippe Junot']"
      ]
     },
     "execution_count": 8,
     "metadata": {},
     "output_type": "execute_result"
    }
   ],
   "source": [
    "lis_1980"
   ]
  },
  {
   "cell_type": "code",
   "execution_count": 9,
   "id": "c4166b17",
   "metadata": {},
   "outputs": [],
   "source": [
    "df_1980 = pd.DataFrame(lis_1980)"
   ]
  },
  {
   "cell_type": "code",
   "execution_count": 10,
   "id": "6cf7c775",
   "metadata": {},
   "outputs": [],
   "source": [
    "df_1980['Año'] = '1980'"
   ]
  },
  {
   "cell_type": "code",
   "execution_count": 11,
   "id": "05aa8eb1",
   "metadata": {},
   "outputs": [
    {
     "name": "stdout",
     "output_type": "stream",
     "text": [
      "['Jan 20 Ronald Reagan inaugurated as the 40th President of the United States of America', 'Apr 14 1st Space Shuttle, Columbia 1, returns to Earth', 'May 5 After 66 days on hunger strike, 26 year old Provisional IRA member and British MP Bobby Sands dies in the Maze Prision. Nine more hunger strikers die in the next 3 months.', \"May 13 Pope John Paul II is shot and critically wounded by Turkish gunman Mehemet Ali Agca in St Peter's Square, Vatican City\", 'Jun 5 AIDS Epidemic officially begins when US Centers for Disease Control reports on pneumonia affecting five homosexual men in Los Angeles', 'Jun 5 World\\'s first today in history program with editable data \"TODAY\", invented by Michael Butler runs for the first time on a mainframe computer', 'Aug 12 IBM introduces its first Personal Computer (PC & PC-DOS version 1.0)', \"Sep 25 Sandra Day O'Connor sworn in as the 1st female US Supreme Court Justice\", 'Oct 23 US national debt hits $1 trillion', 'Mar 10 14th Prince of Ligne Michel Charles Eugène Marie Lamoral (29) weds Princess of Ligne Eleanora (27) in Rio de Janeiro, Brazil', 'Apr 25 Maureen Reagan (40) marries 3rd husband, Dennis Revell (28)', 'May 8 Author John Grisham (26) weds Renee Jones']\n"
     ]
    }
   ],
   "source": [
    "url = 'https://www.onthisday.com/history/date/1981#'\n",
    "r = requests.get(url)\n",
    "r = r.content\n",
    "parsed_html = bs4.BeautifulSoup(r, \"html.parser\") \n",
    "titulo1 = parsed_html.find_all(\"li\", {\"class\": \"event\"})\n",
    "titulo1\n",
    "lis_1981 = []\n",
    "for i in titulo1:\n",
    "    ñ = i.get_text()\n",
    "    lis_1981.append(ñ)\n",
    "print(lis_1981)"
   ]
  },
  {
   "cell_type": "code",
   "execution_count": 12,
   "id": "e7377390",
   "metadata": {},
   "outputs": [],
   "source": [
    "df_1981 = pd.DataFrame(lis_1981)\n",
    "df_1981['Año'] = '1981'"
   ]
  },
  {
   "cell_type": "code",
   "execution_count": 13,
   "id": "46668918",
   "metadata": {},
   "outputs": [
    {
     "name": "stdout",
     "output_type": "stream",
     "text": [
      "['Apr 2 Several thousand Argentine troops seize the Falkland (Malvinas) Islands from Great Britain', 'Apr 17 Proclamation of the Constitution Act by Canadian Prime Minister Pierre Trudeau', 'May 2 Falklands War: Argentine cruiser General Belgrano sunk by British submarine Conqueror, killing more than 350 men', 'Jun 6 30,000 Israeli troops invade Lebanon to drive out the PLO', 'Jun 14 Argentina surrenders to Great Britain, ending the 74-day Falklands Islands conflict', 'Jul 24 Single \"Eye Of The Tiger\" by Survivor from \"Rocky III\" soundtrack starts 6-week run at #1 on US charts (Grammy for Best Rock Performance)', 'Oct 14 US President Reagan proclaims a war on drugs', 'Oct 27 China announces its population has reached 1 billion plus people', 'Jul 1 Over 2000 Unification Church couples marry at NYC Madison Square Garden', 'Jul 22 Biggest mass wedding, Rev Sun Myung Moon weds 2,200 couples in NYC', 'Jul 24 Physicist and astronaut Sally Ride (31) weds astronaut Steven Hawley (30) in Salina, Kansas', 'Dec 6 US Senator Ted & Joan Kennedy divorce']\n"
     ]
    }
   ],
   "source": [
    "url = 'https://www.onthisday.com/history/date/1982#'\n",
    "r = requests.get(url)\n",
    "r = r.content\n",
    "parsed_html = bs4.BeautifulSoup(r, \"html.parser\") \n",
    "titulo1 = parsed_html.find_all(\"li\", {\"class\": \"event\"})\n",
    "titulo1\n",
    "lis_1982 = []\n",
    "for i in titulo1:\n",
    "    ñ = i.get_text()\n",
    "    lis_1982.append(ñ)\n",
    "print(lis_1982)"
   ]
  },
  {
   "cell_type": "code",
   "execution_count": 14,
   "id": "0ca2f3d4",
   "metadata": {},
   "outputs": [],
   "source": [
    "df_1982 = pd.DataFrame(lis_1982)\n",
    "df_1982['Año'] = '1982'"
   ]
  },
  {
   "cell_type": "code",
   "execution_count": 15,
   "id": "11593d13",
   "metadata": {},
   "outputs": [
    {
     "name": "stdout",
     "output_type": "stream",
     "text": [
      "['Jan 1 TCP/IP protocols become the only approved protocol on the ARPANET, replacing the earlier NCP protocol', 'Jan 1 World Communications Year begins', 'Jan 2 Gary Trudeau takes a 20-month break from writing \"Doonesbury\"', 'Jan 2 Several African National Congress (ANC) members detained in Swaziland decide to leave the country voluntarily for Mozambique.', 'Jan 4 US Football League holds its 1st player draft', 'Jan 7 President Reagan ends US arms embargo against Guatemala', 'Jan 9 British PM Margaret Thatcher visits Falkland Islands', \"Jan 15 Dutch political party DS'70 disbands\", 'Jan 15 Thom Syles keeps a life saver intact in his mouth for over 7 hours', 'Jan 17 Alabama Governor George Wallace, becomes governor for a record 4th time', 'Jul 28 Russian president Vladimir Putin (30) weds flight attendant Lyudmila Shkrebneva (25)', 'Sep 11 Fashion designer Donna Karen marries Stephan Weiss', 'Dec 9 Chancellor of the Federal Republic of Germany Willy Brandt weds Brigitte Seebacher']\n"
     ]
    }
   ],
   "source": [
    "url = 'https://www.onthisday.com/history/date/1983#'\n",
    "r = requests.get(url)\n",
    "r = r.content\n",
    "parsed_html = bs4.BeautifulSoup(r, \"html.parser\") \n",
    "titulo1 = parsed_html.find_all(\"li\", {\"class\": \"event\"})\n",
    "titulo1\n",
    "lis_1983 = []\n",
    "for i in titulo1:\n",
    "    ñ = i.get_text()\n",
    "    lis_1983.append(ñ)\n",
    "print(lis_1983)"
   ]
  },
  {
   "cell_type": "code",
   "execution_count": 16,
   "id": "d9dacaf1",
   "metadata": {},
   "outputs": [],
   "source": [
    "df_1983 = pd.DataFrame(lis_1983)\n",
    "df_1983['Año'] = '1983'"
   ]
  },
  {
   "cell_type": "code",
   "execution_count": 17,
   "id": "466bafd2",
   "metadata": {},
   "outputs": [
    {
     "name": "stdout",
     "output_type": "stream",
     "text": [
      "['Jan 24 Apple Computer Inc unveils its revolutionary Macintosh personal computer', 'Feb 29 Pierre Trudeau announces he is stepping down after 15 years as Canadian Prime Minister', 'Apr 23 AIDS-virus identified as HTLV-III (acquired immune deficiency syndrome)', \"Jun 5 Indira Gandhi orders an attack on Sikh's holiest site, the Golden Temple in Amritsar\", 'Dec 3 Bhopal disaster: Union Carbide pesticide plant leak 45 tons of methyl isocyanate and other toxic compounds in Bhopal, India, kills 2,259 (official figure) - other estimates as high as 16,000 (including later deaths) and over half a million injured', 'Dec 19 Chinese Premier Zhao Ziyang and British Prime Minister Margaret Thatcher sign the Sino-British Joint Declaration to transfer Hong Kong back to China in 1997', 'Jan 28 Mr Glynn Wolfe marries for non-bigamous record 26th time, Las Vegas', 'Sep 22 Brussels Princess Astrid marries Archduke Lorenz of Austrian-Este at Church of Our Lady of \"De Zavel', 'Dec 3 Oldest groom - Harry Stevens, 103, weds Thelma Lucas, 83, in Wisconsin', 'Apr 2 Canadian Prime Minister Pierre Trudeau (64) divorces Margaret Sinclair (35) due to irreconcilable differences, after 13 years of marriage']\n"
     ]
    }
   ],
   "source": [
    "url = 'https://www.onthisday.com/history/date/1984#'\n",
    "r = requests.get(url)\n",
    "r = r.content\n",
    "parsed_html = bs4.BeautifulSoup(r, \"html.parser\") \n",
    "titulo1 = parsed_html.find_all(\"li\", {\"class\": \"event\"})\n",
    "titulo1\n",
    "lis_1984 = []\n",
    "for i in titulo1:\n",
    "    ñ = i.get_text()\n",
    "    lis_1984.append(ñ)\n",
    "print(lis_1984)"
   ]
  },
  {
   "cell_type": "code",
   "execution_count": 18,
   "id": "08cc8232",
   "metadata": {},
   "outputs": [],
   "source": [
    "df_1984 = pd.DataFrame(lis_1984)\n",
    "df_1984['Año'] = '1984'"
   ]
  },
  {
   "cell_type": "code",
   "execution_count": 19,
   "id": "13183220",
   "metadata": {},
   "outputs": [
    {
     "name": "stdout",
     "output_type": "stream",
     "text": [
      "['Jan 3 Israel government confirms resettlement of 10,000 Ethiopian Jews', 'Jan 31 South African President P. W. Botha offers to free Nelson Mandela if he denounces violence', 'Mar 11 Mikhail Gorbachev replaces Konstantin Chernenko as Soviet leader', 'Jul 10 French foreign intelligence agents blow up the Greenpeace boat Rainbow Warrior in Auckland harbor, New Zealand to prevent it interfering with French nuclear tests in the South Pacific. Dutch photographer Fernando Pereira is killed.', 'Sep 19 8.1 earthquake in Mexico City kills an estimated 10,000 and leaves 250,000 homeless', 'Nov 13 Nevado del Ruiz volcano erupts in Colombia, killing 25,000 in the town of Armero', 'Nov 19 US President Ronald Reagan and Soviet leader Mikhail Gorbachev meet for the first time', \"Jan 22 Zak Starkey (Ringo's son) marries Sarah Menikides\", 'Apr 27 Police violence victim Rodney King (20) weds Dennetta Lyles', 'Jun 8 Future US Vice President Mike Pence (25) weds Karen Batten (26) at Indianapolis, Indiana']\n"
     ]
    }
   ],
   "source": [
    "url = 'https://www.onthisday.com/history/date/1985#'\n",
    "r = requests.get(url)\n",
    "r = r.content\n",
    "parsed_html = bs4.BeautifulSoup(r, \"html.parser\") \n",
    "titulo1 = parsed_html.find_all(\"li\", {\"class\": \"event\"})\n",
    "titulo1\n",
    "lis_1985 = []\n",
    "for i in titulo1:\n",
    "    ñ = i.get_text()\n",
    "    lis_1985.append(ñ)\n",
    "print(lis_1985)"
   ]
  },
  {
   "cell_type": "code",
   "execution_count": 20,
   "id": "0c753dbf",
   "metadata": {},
   "outputs": [],
   "source": [
    "df_1985 = pd.DataFrame(lis_1985)\n",
    "df_1985['Año'] = '1985'"
   ]
  },
  {
   "cell_type": "code",
   "execution_count": 21,
   "id": "6cd12677",
   "metadata": {},
   "outputs": [
    {
     "name": "stdout",
     "output_type": "stream",
     "text": [
      "['Feb 15 Ferdinand Marcos wins rigged presidential election in the Philippines', \"Apr 26 World's worst nuclear disaster: 4th reactor at Chernobyl nuclear power station in USSR explodes, 31 die, radioactive contamination reaches much of Western Europe\", 'Sep 19 US Federal health officials announce AZT will be available to AIDS patients', 'Oct 11 Ronald Reagan and Mikhail Gorbachev open talks at a summit in Reykjavik, Iceland', 'Oct 27 British government deregulates financial markets in a \"Big Bang\", enhancing London\\'s status as a financial capital while increasing income inequality', 'Nov 20 World Health Organization announces first global effort to combat AIDS', 'Nov 25 Iran-Contra affair erupts, President Reagan reveals secret arms deal', 'Dec 17 Mrs Davina Thompson makes medical history by having the 1st heart, lung & liver transplant at Papworth Hospital in Cambridge, England', 'Jan 14 Gary Brolsma, American internet celebrity (Numa Numa), born in Saddle Brook, New Jersey', 'Jan 26 Kizzmekia Corbett, American viral immunologist (US Vaccine Research Center, developed the Moderna COVID vaccine), born in Hurdle Mills, North Carolina', 'Feb 6 Tony Johnson Jr., American mixed martial artist (KOTC heavyweight champion 2010), born in Killeen, Texas', 'Feb 7 Michael Orozco, American footballer', 'Feb 9 Princess Raiyah bint Al Hussein, of Jordan', 'Apr 12 Greek-American writer Arianna Stasinopoúlou (Arianna Huffington) (35) weds American politician Michael Huffington (38); divorce in 1997', 'Apr 26 Writer Jorge Luis Borges (86) weds author Maria Kodama (49) in Paraguay', 'Jul 19 Caroline Kennedy (28) weds Edwin Schlossberg (41) at the Church of Our Lady of Victory in Centerville, Massachusetts']\n"
     ]
    }
   ],
   "source": [
    "url = 'https://www.onthisday.com/history/date/1986#'\n",
    "r = requests.get(url)\n",
    "r = r.content\n",
    "parsed_html = bs4.BeautifulSoup(r, \"html.parser\") \n",
    "titulo1 = parsed_html.find_all(\"li\", {\"class\": \"event\"})\n",
    "titulo1\n",
    "lis_1986 = []\n",
    "for i in titulo1:\n",
    "    ñ = i.get_text()\n",
    "    lis_1986.append(ñ)\n",
    "print(lis_1986)"
   ]
  },
  {
   "cell_type": "code",
   "execution_count": 22,
   "id": "07bdf9ac",
   "metadata": {},
   "outputs": [],
   "source": [
    "df_1986 = pd.DataFrame(lis_1986)\n",
    "df_1986['Año'] = '1986'"
   ]
  },
  {
   "cell_type": "code",
   "execution_count": 23,
   "id": "a1d05204",
   "metadata": {},
   "outputs": [
    {
     "name": "stdout",
     "output_type": "stream",
     "text": [
      "['Jan 6 Astronomers at University of California see 1st sight of birth of a galaxy', \"Jun 8 New Zealand's Labour government legislates against nuclear weapons and nuclear powered vessels in NZ. Only nation to legislate against nuclear power.\", 'Jun 11 Margaret Thatcher is 1st British Prime Minister in 160 years to win a third consecutive term', 'Oct 19 Black Monday: Stock markets around the world crash, including the Dow Jones stock index, which falls 508.32 points (22%), 4½ times the previous daily record', 'Jan 16 Cassey Ho, American social media fitness entrepreneur, born in Los Angeles, California', 'Feb 16 Jon Ossoff, American politician (US Senator-D-Georgia 2021-pesent), born in Atlanta, Georgia', 'Feb 24 Daniel Reilly, British entrepreneur', 'Mar 6 Alexey Molchanov, Russian freediver (25 world records), born in Volgograd, Russia', 'Mar 12 Chris Seitz, American footballer', \"Dec 18 Benazir Bhutto, Pakistan's future Prime Minister, marries Asif Ali Zardari\"]\n"
     ]
    }
   ],
   "source": [
    "url = 'https://www.onthisday.com/history/date/1987#'\n",
    "r = requests.get(url)\n",
    "r = r.content\n",
    "parsed_html = bs4.BeautifulSoup(r, \"html.parser\") \n",
    "titulo1 = parsed_html.find_all(\"li\", {\"class\": \"event\"})\n",
    "titulo1\n",
    "lis_1987 = []\n",
    "for i in titulo1:\n",
    "    ñ = i.get_text()\n",
    "    lis_1987.append(ñ)\n",
    "print(lis_1987)"
   ]
  },
  {
   "cell_type": "code",
   "execution_count": 24,
   "id": "2a19d409",
   "metadata": {},
   "outputs": [],
   "source": [
    "df_1987 = pd.DataFrame(lis_1987)\n",
    "df_1987['Año'] = '1987'"
   ]
  },
  {
   "cell_type": "code",
   "execution_count": 25,
   "id": "9d7fddfc",
   "metadata": {},
   "outputs": [
    {
     "name": "stdout",
     "output_type": "stream",
     "text": [
      "['Feb 4 Panamanian General Manuel Noriega indicted by US federal grand jury for drug trafficking and racketeering', 'May 15 USSR begins withdrawing its 115,000 troops from Afghanistan', 'May 24 Section 28 passed as law by Parliament in the United Kingdom prohibiting the promotion of homosexuality. Repealed 2001/2004', 'Aug 8 Ceasefire between Iran & Iraq takes effect after 8 years of war', 'Aug 11 Al-Qaeda formed at a meeting between Osama bin Laden, Ayman al-Zawahiri and Dr Fadl in Peshawar, Pakistan', 'Aug 19 Iran and Iraq begin a cease-fire in their 8-year-old war (11 PM EDT)', 'Sep 3 Estimated by this date 50,000 Kurdish civilians and soldiers killed by Iraq, many using chemical weapons, in aftermath of Iran-Iraq War', 'Oct 1 Mikhail Gorbachev becomes Chairman of the Presidium of the Supreme Soviet, effectively head of state of the Soviet Union', \"Oct 5 Chile votes in a referendum 56-44 against extending Augusto Pinochet's regime by 8 years thus ending the dictator's 16½ years in power\", 'Dec 1 Benazir Bhutto named 1st female Prime Minister of a Muslim country (Pakistan)', 'Dec 7 6.9 earthquake in Spitak, Armenia kills 25,000-50,000 people and leaves up to 500,000 homeless', 'Dec 7 PLO delegation lead by Yasser Arafat proclaims the State of Palestine, recognizing the existence of the State of Israel for the first time', 'Dec 21 Lockerbie disaster: A terrorist bomb destroys Pan Am Flight 103 mid-air, over Scotland; kills all 259 passengers and crew on board, and 11 people on the ground [1]', 'Jan 3 Rodrigo de la Cadena, Mexican artist and performer', 'Jan 4 Nabila Jamshed, Indian writer', 'Jan 7 Scott Pendlebury, Australian rules footballer, born in Sale, Australia', \"Jan 11 Alexandria L'Esperance, US quintuplet, born in Royal Oak, Michigan\", \"Jan 11 Danielle L'Esperance, US quintuplet, born in Royal Oak, Michigan\", 'Jan 9 English earl of St Andrews marries Sylvana Tomaselli', 'Feb 14 Astronaut Buzz Aldrin (58) weds Lois Driggs Cannon', 'May 28 American journalist Harry Reasoner (65) weds American insurance executive Lois Harriett Weber(44) at the United Church of Christ in Humboldt, Iowa', 'Jul 25 Heiress Julia Stimson Thorne (43) divorces politician John Kerry (44) after 18 years of marriage']\n"
     ]
    }
   ],
   "source": [
    "url = 'https://www.onthisday.com/history/date/1988#'\n",
    "r = requests.get(url)\n",
    "r = r.content\n",
    "parsed_html = bs4.BeautifulSoup(r, \"html.parser\") \n",
    "titulo1 = parsed_html.find_all(\"li\", {\"class\": \"event\"})\n",
    "titulo1\n",
    "lis_1988 = []\n",
    "for i in titulo1:\n",
    "    ñ = i.get_text()\n",
    "    lis_1988.append(ñ)\n",
    "print(lis_1988)"
   ]
  },
  {
   "cell_type": "code",
   "execution_count": 26,
   "id": "67710b72",
   "metadata": {},
   "outputs": [],
   "source": [
    "df_1988 = pd.DataFrame(lis_1988)\n",
    "df_1988['Año'] = '1988'"
   ]
  },
  {
   "cell_type": "code",
   "execution_count": 27,
   "id": "de0c5df6",
   "metadata": {},
   "outputs": [
    {
     "name": "stdout",
     "output_type": "stream",
     "text": [
      "['Feb 6 Solidarity union leader Lech Wałęsa begins negotiating with Polish government', \"Apr 21 Thousands of Chinese crowd into Beijing's Tiananmen Square cheering students demanding greater political freedom\", 'May 13 Approx 2,000 students begin hunger strike in Tiananmen Square, China', 'May 16 Soviet president Mikhail Gorbachev and Chinese leader Deng Xiaoping meet in Beijing and formally end a 30-year rift', 'Jun 2 10,000 Chinese soldiers are blocked by 100,000 citizens in Tiananmen Square, Beijing, protecting students demonstrating for democracy', 'Jun 3 Beginning of the Tiananmen Square Massacre as Chinese troops open fire on pro-democracy supporters in Beijing', \"Jun 4 Eastern Europe's first partial free elections in 40 years held in Poland, Solidarity Party comes to power\", 'Jun 4 Tiananmen Square Massacre: Chinese troops clear the square of student protesters, unofficial figures place death toll near 1,000', 'Nov 10 Germans begin demolishing the Berlin Wall', 'Dec 3 Soviet President Mikhail Gorbachev and US President George H. W. Bush, declare the Cold War over', 'Dec 22 After 23 years of dictatorial rule, Romania ousts Communist dictator Nicolae Ceausescu', 'Feb 20 Police violence victim Rodney King (23) weds Crystal Lynnette Waters', 'May 28 Delta Burke (Designing Women) weds Gerald McRaney (Major Dad)', 'Jun 18 John Wayne Bobitt marries Lorena L Gallo']\n"
     ]
    }
   ],
   "source": [
    "url = 'https://www.onthisday.com/history/date/1989#'\n",
    "r = requests.get(url)\n",
    "r = r.content\n",
    "parsed_html = bs4.BeautifulSoup(r, \"html.parser\") \n",
    "titulo1 = parsed_html.find_all(\"li\", {\"class\": \"event\"})\n",
    "titulo1\n",
    "lis_1989 = []\n",
    "for i in titulo1:\n",
    "    ñ = i.get_text()\n",
    "    lis_1989.append(ñ)\n",
    "print(lis_1989)"
   ]
  },
  {
   "cell_type": "code",
   "execution_count": 28,
   "id": "538debcb",
   "metadata": {},
   "outputs": [],
   "source": [
    "df_1989 = pd.DataFrame(lis_1989)\n",
    "df_1989['Año'] = '1989'"
   ]
  },
  {
   "cell_type": "code",
   "execution_count": 29,
   "id": "15c53c1e",
   "metadata": {},
   "outputs": [
    {
     "name": "stdout",
     "output_type": "stream",
     "text": [
      "['Feb 11 Nelson Mandela released after 27 years imprisonment in South Africa', 'Apr 25 Hubble space telescope is placed into orbit by space shuttle Discovery', 'Apr 29 Wrecking cranes began tearing down the Berlin Wall at the Brandenburg Gate', 'May 20 Hubble Space Telescope sends its 1st photographs from space', 'Jun 21 7.7 Manjil-Rudbar Earthquake with hundreds of aftershocks hits Iran; killing about 50,000', 'Jul 2 1,426 pilgrims trampled to death after a panic in a tunnel in Mecca, Saudi Arabia', 'Aug 7 US deploys troops to Saudi Arabia beginning Operation Desert Shield', 'Aug 25 UN security council authorizes military action against Iraq', 'Sep 20 Both East and West Germany ratify reunification', 'Oct 3 Reunification of East and West Germany. West German flag is raised above the Brandenburg Gate on the stroke of midnight.', 'Nov 12 The World Wide Web is first proposed by CERN computer scientists Tim Berners-Lee and Robert Cailliau [1]', \"Dec 9 Lech Wałęsa wins Poland's 1st direct presidential election in Poland\", \"Dec 22 Lech Wałęsa sworn in as Poland's 1st popularly elected president\", 'Jan 26 Peter Sagan, Slovakian professional cyclist (World Road Champion 2016), born in Žilina, Slovakia', 'Feb 3 Cody Newton Gifford, American write, producer, son of Kathie Lee & Frank Gifford, born in NYC, New York', 'Feb 4 Haruka Tomatsu, Japanese Seiyū, born in Ichinomiya, Aichi, Japan', 'Feb 11 Princess Ayah of Jordan, niece of King Abdullah II of Jordan, born in Amman, Jordan', 'Feb 13 Olivia Federici, British synchronized swimmer, born in Plymouth, United Kingdom', 'Feb 2 Marina Ogilvy (daughter of Engl princess Alexandra) weds Paul Mowatt', \"Jun 9 Kerry Kennedy (daughter of Robert) & Andrew Coumo (Mario's son) wed\", 'Jul 17 Palestinian leader Yasser Arafat (56) weds Suha Tawil (27)']\n"
     ]
    }
   ],
   "source": [
    "url = 'https://www.onthisday.com/history/date/1990#'\n",
    "r = requests.get(url)\n",
    "r = r.content\n",
    "parsed_html = bs4.BeautifulSoup(r, \"html.parser\") \n",
    "titulo1 = parsed_html.find_all(\"li\", {\"class\": \"event\"})\n",
    "titulo1\n",
    "lis_1990 = []\n",
    "for i in titulo1:\n",
    "    ñ = i.get_text()\n",
    "    lis_1990.append(ñ)\n",
    "print(lis_1990)"
   ]
  },
  {
   "cell_type": "code",
   "execution_count": 30,
   "id": "8a744e13",
   "metadata": {},
   "outputs": [],
   "source": [
    "df_1990 = pd.DataFrame(lis_1990)\n",
    "df_1990['Año'] = '1990'"
   ]
  },
  {
   "cell_type": "code",
   "execution_count": 31,
   "id": "6cbe9028",
   "metadata": {},
   "outputs": [
    {
     "name": "stdout",
     "output_type": "stream",
     "text": [
      "['Jan 17 Operation Desert Storm begins, with US-led coalition forces bombing Iraq, during the Gulf War', 'Feb 7 The IRA launches a mortar attack on 10 Downing Street during a cabinet meeting.', 'Feb 28 Gulf War ends after Iraq accepts a ceasefire following their retreat from Kuwait', 'Mar 3 Los Angeles police officers severely beat motorist Rodney King, the beating is famously captured on amateur video and later leads to riots when the police officers are acquitted', 'Apr 29 Cyclone strikes the Chittagong district in Bangladesh, killing 139,000 people and leaving 10 million homeless', 'Jun 15 Climactic eruption of the Mount Pinatubo volcano in the Philippines, the second-largest volcanic eruption on Earth of the 20th century', 'Jun 19 Colombian drug lord Pablo Escobar surrenders to police', 'Jul 10 Boris Yeltsin sworn in as 1st elected President of the Russian Federation', 'Aug 6 Tim Berners-Lee releases files describing his idea for the World Wide Web. WWW debuts as a publicly available service on the Internet.', \"Aug 19 Conservative members of the Communist Party of the Soviet Union attempt to depose Mikhail Gorbachev in a coup d'état\", 'Aug 21 Conservative coup in the Soviet Union is crushed by popular resistance led by Boris Yeltsin in three days', 'Aug 25 Linux is born when Linus Torvalds sends off an email announcing his project to create a new computer operating system', 'Dec 21 Soviet Union formally dissolves as 11 of 12 republics sign treaty forming Commonwealth of Independent States', 'Dec 25 Mikhail Gorbachev formally resigns as President of USSR in a televised speech', 'Mar 18 Apple computer head Steve Jobs (36) weds American businesswoman Laurene Powell (27) in a Buddhist ceremony at the Ahwahnee Hotel in Yosemite National Park, California', 'May 31 Oldest bride - Minnie Munro, 102, weds Dudley Reid, 83, in Australia', 'Jun 21 Eleanor Mondale marries Greg \"Thunder\" Malban (Minn DJ)', 'Apr 25 Designer Mary McFadden (52) announces divorce of Kohie Yohannan (23)']\n"
     ]
    }
   ],
   "source": [
    "url = 'https://www.onthisday.com/history/date/1991#'\n",
    "r = requests.get(url)\n",
    "r = r.content\n",
    "parsed_html = bs4.BeautifulSoup(r, \"html.parser\") \n",
    "titulo1 = parsed_html.find_all(\"li\", {\"class\": \"event\"})\n",
    "titulo1\n",
    "lis_1991 = []\n",
    "for i in titulo1:\n",
    "    ñ = i.get_text()\n",
    "    lis_1991.append(ñ)\n",
    "print(lis_1991)"
   ]
  },
  {
   "cell_type": "code",
   "execution_count": 32,
   "id": "e7be1040",
   "metadata": {},
   "outputs": [],
   "source": [
    "df_1991 = pd.DataFrame(lis_1991)\n",
    "df_1991['Año'] = '1991'"
   ]
  },
  {
   "cell_type": "code",
   "execution_count": 33,
   "id": "0814b831",
   "metadata": {},
   "outputs": [
    {
     "name": "stdout",
     "output_type": "stream",
     "text": [
      "['Feb 7 Maastricht Treaty signed by 12 countries from the European Community (EC) to create the European Union (EU)', 'Apr 9 John Major elected Prime Minister of the United Kingdom after his Conservative Party wins the most votes in British electoral history', 'Jun 30 South African ANC President Nelson Mandela meets with UN Secretary-General Boutros Boutros-Ghali at Dakar', 'Jul 14 386BSD is released by Lynne Jolitz and William Jolitz, starting the open source operating system revolution. Linus Torvalds release \"Linux\" soon afterwards', 'Sep 15 George Soros\\' Quantum Fund begins selling large amounts of pound sterling, labelled \"the man who broke the Bank of England\" when pound crashes out of the ERM next day', 'Nov 11 The Church of England approves the ordination of female priests', 'Dec 9 Operation Restore Hope: US Marines land in Somalia', 'Jan 12 Mao Kobayashi, Japanese gravure idol, born in Niigata Prefecture, Japan (d. 2017)', 'Feb 2 Rebop Rundgren, son of Michelle Gray & Todd', 'Mar 4 Jazmin Grace Grimaldi, daughter of Albert II, Prince of Monaco', 'Mar 19 Henry & Angus Bernsen, twin sons of Corbin Bernsen & Amanda Pays', 'Apr 16 Prince Sébastien of Luxembourg, Prince of Luxembourg, born in Luxembourg City, Luxembourg', 'Feb 22 Ed McMahon (69) weds Pamela Hurn (37)', 'Jun 15 Director Frank Perry (Mommie Dearest) marries Virginia Bush Ford', \"Jun 28 US President George H. W. Bush's daughter Dorothy marries Bobby Koch\", 'Apr 13 Nelson Mandela announces he will seek divorce from Winnie Madikizela', 'Apr 23 British Princess Anne (the Princess Royal) and her 1st husband Captain Mark Phillips divorce after 19 years']\n"
     ]
    }
   ],
   "source": [
    "url = 'https://www.onthisday.com/history/date/1992#'\n",
    "r = requests.get(url)\n",
    "r = r.content\n",
    "parsed_html = bs4.BeautifulSoup(r, \"html.parser\") \n",
    "titulo1 = parsed_html.find_all(\"li\", {\"class\": \"event\"})\n",
    "titulo1\n",
    "lis_1992 = []\n",
    "for i in titulo1:\n",
    "    ñ = i.get_text()\n",
    "    lis_1992.append(ñ)\n",
    "print(lis_1992)"
   ]
  },
  {
   "cell_type": "code",
   "execution_count": 34,
   "id": "36dd42ab",
   "metadata": {},
   "outputs": [],
   "source": [
    "df_1992 = pd.DataFrame(lis_1992)\n",
    "df_1992['Año'] = '1992'"
   ]
  },
  {
   "cell_type": "code",
   "execution_count": 35,
   "id": "5281ec77",
   "metadata": {},
   "outputs": [
    {
     "name": "stdout",
     "output_type": "stream",
     "text": [
      "['Apr 22 Holocaust Memorial Museum dedicated in Washington, D.C.', \"Jun 21 English mathematician Andrew Wiles proves last theorem of French mathematician Pierre de Fermat after 356 years, the world's most difficult maths problem\", 'Aug 4 Rwandian Hutus and Tutsis sign peace treaty in Arusha, Tanzania', 'Aug 20 Oslo Peace Accords signed, after secret negotiations in Norway, followed by a public ceremony in Washington, D.C. the following month', 'Sep 9 Israel and the Palestine Liberation Organization exchange letters of mutual recognition', 'Sep 13 Public unveiling of the Oslo Accords, an Israeli-Palestinian peace agreement initiated by Norway, signed by Israeli Minister of Foreign Affairs Shimon Peres and PLO official Mahmoud Abbas', 'Oct 4 Troops and tanks of President Boris Yeltsin shell and occupy the Russian White House in Moscow, the house of government of the Russian Federation', 'Oct 15 Nelson Mandela and South African President F. W. de Klerk awarded the Nobel Peace Prize', 'Oct 21 Failed military coup in Burundi, led by ex-President Jean-Baptiste Bagaza, includes assassination President Ndadaye; 525,000 Hutus flee', 'Nov 18 Black and white leaders in South Africa approve new democratic constitution', 'Feb 6 US Senator Mitch McConnell (51) weds economist Elaine Chao', 'Mar 20 Talk show host Morton Downey Jr (59) weds producer Lori Krebs (29) in Bellmore, New York', 'Apr 18 Beirut-hostage Terry Anderson marries Madeleine Bassil', 'Mar 2 Novelist Salman Rushdie (Satanic Verses) divorces Marianne Wiggins', 'Mar 5 Former Washington, D.C. Mayor Marion Barry divorces his wife Effi', \"Apr 23 Motley Crue's Mike Mars files for divorce from Emi-Canyn\"]\n"
     ]
    }
   ],
   "source": [
    "url = 'https://www.onthisday.com/history/date/1993#'\n",
    "r = requests.get(url)\n",
    "r = r.content\n",
    "parsed_html = bs4.BeautifulSoup(r, \"html.parser\") \n",
    "titulo1 = parsed_html.find_all(\"li\", {\"class\": \"event\"})\n",
    "titulo1\n",
    "lis_1993 = []\n",
    "for i in titulo1:\n",
    "    ñ = i.get_text()\n",
    "    lis_1993.append(ñ)\n",
    "print(lis_1993)"
   ]
  },
  {
   "cell_type": "code",
   "execution_count": 36,
   "id": "88d00727",
   "metadata": {},
   "outputs": [],
   "source": [
    "df_1993 = pd.DataFrame(lis_1993)\n",
    "df_1993['Año'] = '1993'"
   ]
  },
  {
   "cell_type": "code",
   "execution_count": 37,
   "id": "1994b88f",
   "metadata": {},
   "outputs": [
    {
     "name": "stdout",
     "output_type": "stream",
     "text": [
      "['Mar 12 The Church of England ordains its first ever 33 female priests', 'Apr 6 Plane carrying Rwandan President Juvénal Habyarimana and Burundian President Cyprien Ntaryamira is shot down by surface-to-air missiles, abruptly ending peace negotiations and sparking the Rwandan Genocide. Those responsible have never been identified.', 'Apr 22 7,000 Tutsi slaughtered by Hutus in the stadium at Kibuye, Rwanda', \"May 10 Nelson Mandela sworn in as South Africa's 1st black president\", 'Jun 29 US reopens Guantanamo Naval Base to process refugees', 'Jul 5 Amazon.com founded in Bellevue, Washington by Jeff Bezos', 'Aug 31 The Provisional Irish Republican Army (Sinn Féin) declares a ceasefire in Northern Ireland', 'Sep 24 National League for Democracy is formed by Aung San Suu Kyi and various others to help fight against dictatorship in Myanmar', 'Nov 9 Darmstadtium, Chemical element 110, discovered at GSI Helmholtz Centre for Heavy Ion Research near Darmstadt, Germany', 'Jan 14 Samir Patel, American spelling bee winner', 'Jan 31 Vitalik Buterin, Russian-Canadian computer programmer (co-founder of Ethereum), born in Kolomna, Russia', 'Mar 26 Paige VanZant, American mixed martial artist born in Dundee, Oregon', 'Apr 25 Samuel Carvalho, British activist and mental health advocate, born in Cambridge, England', 'May 4 Pauline Ducruet, daughter of HSH Princess Stéphanie of Monaco, born in Princess Grace Hospital Centre, La Colle, Monaco', 'Jan 1 Microsoft CEO Bill Gates (38) marries Melinda French (29)', 'Mar 13 Cuba Godding Jr (26) weds Sara Kapfer (26)', 'Mar 26 Half-brother of former President Bill Clinton and rodeo clown Roger Clinton (37) weds Molly Martin (25) in Dallas', 'Mar 24 Robert F. Kennedy Jr. divorces Emily Black', 'Apr 15 Robert F. Kennedy Jr. (21 days after his divorce) weds Mary Richardson', 'Sep 17 Princess Christina separates']\n"
     ]
    }
   ],
   "source": [
    "url = 'https://www.onthisday.com/history/date/1994#'\n",
    "r = requests.get(url)\n",
    "r = r.content\n",
    "parsed_html = bs4.BeautifulSoup(r, \"html.parser\") \n",
    "titulo1 = parsed_html.find_all(\"li\", {\"class\": \"event\"})\n",
    "titulo1\n",
    "lis_1994 = []\n",
    "for i in titulo1:\n",
    "    ñ = i.get_text()\n",
    "    lis_1994.append(ñ)\n",
    "print(lis_1994)"
   ]
  },
  {
   "cell_type": "code",
   "execution_count": 38,
   "id": "ece4cad4",
   "metadata": {},
   "outputs": [],
   "source": [
    "df_1994 = pd.DataFrame(lis_1994)\n",
    "df_1994['Año'] = '1994'"
   ]
  },
  {
   "cell_type": "code",
   "execution_count": 39,
   "id": "0705d704",
   "metadata": {},
   "outputs": [
    {
     "name": "stdout",
     "output_type": "stream",
     "text": [
      "['Apr 19 Oklahoma City bombing, Timothy McVeigh sets a truck bomb at Alfred P. Murrah Federal Building, killing 168 and injuring 500', 'May 11 More than 170 countries agree to extend the Nuclear Nonproliferation Treaty indefinitely and without conditions to prevent the spread of nuclear weapons [1]', \"Jul 11 7,000 Bosnian Muslim men are massacred when Bosnian Serbs overrun the UN 'safe haven' of Srebrenica\", 'Jul 23 Comet Hale-Bopp is discovered and becomes visible to the naked eye nearly a year later', 'Dec 14 The Dayton Agreement is signed in Paris by leaders of various governments ending the conflict in the former Yugoslavia including Slobodan Milošević, Alija Izetbegović, Franjo Tuđman and Bill Clinton', 'Feb 5 Trayvon Martin, Black American teenager (shot and killed by George Zimmerman in Florida), born in Miami, Florida (d. 2012)', 'May 24 Prince Joseph Wenzel of Liechtenstein, eldest child of Prince Alois of Liechtenstein, the Regent and Hereditary Prince of Liechtenstein, and his wife Princess Sophie of Bavaria, Duchess in Bavaria, born in Portland Hospital, London', 'Oct 6 Jessica Lunsford, American kidnapping victim (d. 2005)', 'Dec 14 Princess Olimpia Preslavska of Bulgaria, born in London', 'Mar 18 Spanish princess Elena (31) weds Jaime de Marichalar y Saenez Tejada (31) at the Seville Cathedral in Seville, Spain', 'May 26 US Secretary of State John Kerry (51) weds philanthropist Teresa Heinz (56) in Nantucket, Massachusetts', \"Jul 1 Crown Prince of Greece and the oldest son of the deposed King Constantine of Greece, Pavlos (28) weds Robert W. Miller's daughter Marie-Chantal Miller (26) at London's Cathedral of Saint Sophia\", 'Mar 3 Camilla Parker Bowles (46) and her husband retired Army Brigadier Andrew Parker Bowles(55) divorce, after 21 years of marriage', 'Dec 19 Queen Elizabeth asks Prince Charles and Diana, Princess of Wales, to divorce']\n"
     ]
    }
   ],
   "source": [
    "url = 'https://www.onthisday.com/history/date/1995#'\n",
    "r = requests.get(url)\n",
    "r = r.content\n",
    "parsed_html = bs4.BeautifulSoup(r, \"html.parser\") \n",
    "titulo1 = parsed_html.find_all(\"li\", {\"class\": \"event\"})\n",
    "titulo1\n",
    "lis_1995 = []\n",
    "for i in titulo1:\n",
    "    ñ = i.get_text()\n",
    "    lis_1995.append(ñ)\n",
    "print(lis_1995)"
   ]
  },
  {
   "cell_type": "code",
   "execution_count": 40,
   "id": "adcb87f0",
   "metadata": {},
   "outputs": [],
   "source": [
    "df_1995 = pd.DataFrame(lis_1995)\n",
    "df_1995['Año'] = '1995'"
   ]
  },
  {
   "cell_type": "code",
   "execution_count": 41,
   "id": "959a488e",
   "metadata": {},
   "outputs": [
    {
     "name": "stdout",
     "output_type": "stream",
     "text": [
      "['Jul 3 UK House of Commons announces that the Stone of Scone, aka the Stone of Destiny, used in the coronation of Scottish (and subsequently English and British monarchs), will be returned to Scotland after 700 years in Westminster Abbey', 'Aug 23 Osama bin Laden issues message entitled \"A declaration of war against the Americans occupying the land of the two holy places\"', 'Aug 26 US President Bill Clinton signs welfare reform into law, representing major shift in welfare policy', 'Feb 29 Fashion designer Nicole Miller (44) weds Kim Taipale (42) in the office of New York City Mayor Rudolph Giuliani', 'Mar 24 Former Atlanta mayor and UN ambassador Andrew Young (64) weds Carolyn Watson (49) in South Africa', 'May 11 Fashion designer Cynthia Rowley (39) weds retail store designer Bill Keenan (43) at Manhattan City Hall in New York', 'Mar 19 Winnie Madikizela-Mandela divorces Nelson Mandela after 38 years of marriage', 'Jul 15 Prince Charles and Diana, Princess of Wales, sign divorce papers']\n"
     ]
    }
   ],
   "source": [
    "url = 'https://www.onthisday.com/history/date/1996#'\n",
    "r = requests.get(url)\n",
    "r = r.content\n",
    "parsed_html = bs4.BeautifulSoup(r, \"html.parser\") \n",
    "titulo1 = parsed_html.find_all(\"li\", {\"class\": \"event\"})\n",
    "titulo1\n",
    "lis_1996 = []\n",
    "for i in titulo1:\n",
    "    ñ = i.get_text()\n",
    "    lis_1996.append(ñ)\n",
    "print(lis_1996)"
   ]
  },
  {
   "cell_type": "code",
   "execution_count": 42,
   "id": "34656a1a",
   "metadata": {},
   "outputs": [],
   "source": [
    "df_1996 = pd.DataFrame(lis_1996)\n",
    "df_1996['Año'] = '1996'"
   ]
  },
  {
   "cell_type": "code",
   "execution_count": 43,
   "id": "783ad236",
   "metadata": {},
   "outputs": [
    {
     "name": "stdout",
     "output_type": "stream",
     "text": [
      "['Apr 29 Chemical Weapons Convention of 1993 comes into force, outlaws production, stockpiling and use of chemical weapons among its signatories', 'Jun 30 British lease on the New Territories in Hong Kong, established by the Second Convention of Peking, expires', \"Jul 1 United Kingdom returns Hong Kong and the New Territories to the People's Republic of China\", 'Jul 25 Scientists announce the first human stem cells to be cultured in a laboratory using tissue taken from aborted human embryos', 'Aug 31 Diana, Princess of Wales, dies in a car crash in a road tunnel in Paris', 'Sep 16 Apple Computer Inc names co-founder Steve Jobs interim CEO', 'Dec 11 Delegates from 150 industrial nations attending a UN climate conference in Kyoto, Japan, reach agreement to control heat-trapping greenhouse gases', 'Dec 29 Hong Kong begins slaughtering all its chickens to prevent bird flu', 'Jun 21 Princess Zahra Aga Khan (26) weds businessman Mark Boyden at the Chateau de Chantilly in Paris', 'Jul 28 Two-time Grammy Award winner Sheena Easton (38) weds documentary director Timothy Delarm (35) in Las Vegas', 'Aug 28 British-Indian novelist and essayist Salman Rushdie (50) weds Elizabeth West', 'Dec 10 Motorcycle daredevil Evel Knievel (59) divorces Linda Joan Bork after 38 years of marriage']\n"
     ]
    }
   ],
   "source": [
    "url = 'https://www.onthisday.com/history/date/1997#'\n",
    "r = requests.get(url)\n",
    "r = r.content\n",
    "parsed_html = bs4.BeautifulSoup(r, \"html.parser\") \n",
    "titulo1 = parsed_html.find_all(\"li\", {\"class\": \"event\"})\n",
    "titulo1\n",
    "lis_1997 = []\n",
    "for i in titulo1:\n",
    "    ñ = i.get_text()\n",
    "    lis_1997.append(ñ)\n",
    "print(lis_1997)"
   ]
  },
  {
   "cell_type": "code",
   "execution_count": 44,
   "id": "50d5e2c9",
   "metadata": {},
   "outputs": [],
   "source": [
    "df_1997 = pd.DataFrame(lis_1997)\n",
    "df_1997['Año'] = '1997'"
   ]
  },
  {
   "cell_type": "code",
   "execution_count": 45,
   "id": "b0ce9b3d",
   "metadata": {},
   "outputs": [
    {
     "name": "stdout",
     "output_type": "stream",
     "text": [
      "['Jan 26 President Bill Clinton says \"I want to say one thing to the American people; I did not have sexual relations with that woman, Miss Lewinsky\"', 'Feb 23 Osama bin Laden publishes a fatwa declaring jihad against all Jews and Crusaders', 'Apr 10 The Good Friday Agreement [Belfast Agreement] for Northern Ireland is signed by the British and Irish governments', 'May 23 The Good Friday Agreement is accepted in a referendum in Northern Ireland with 75% voting yes.', \"Jun 1 European Central Bank is founded in Brussels to define and execute the European Union's monetary policy\", 'Aug 15 Omagh Bombing in Northern Ireland, the worst terrorist incident of The Troubles, kills 29 people and injures about 220', 'Aug 17 Monica Lewinsky scandal: US President Bill Clinton admits in taped testimony he had an \"improper physical relationship\" with the intern and on the same day admits before the nation he \"misled people\" about the relationship', 'Oct 16 Former Chilean dictator General Augusto Pinochet is arrested in London on a Spanish warrant requesting his extradition on murder charges', 'Nov 9 Brokerage houses are ordered to pay 1.03 billion USD to NASDAQ investors to compensate for price-fixing - largest civil settlement in US history', 'Dec 6 Hugo Chávez is elected President of Venezuela', 'Dec 16 Iraq disarmament crisis: Operation Desert Fox - the United States and United Kingdom bomb targets in Iraq', 'Mar 27 Novelist Danielle Steel (50) weds financier Thomas James Perkins (66)', 'May 30 Nephew of Queen Beatrix of the Netherlands Prince Maurits of Orange-Nassau, van Vollenhoven (30) weds to commoner Marilene van den Broek (28) in Apeldoorn', 'Jun 20 Magazine publisher Larry Flynt (55) weds Elizabeth Berrios (his fifth and final time)']\n"
     ]
    }
   ],
   "source": [
    "url = 'https://www.onthisday.com/history/date/1998#'\n",
    "r = requests.get(url)\n",
    "r = r.content\n",
    "parsed_html = bs4.BeautifulSoup(r, \"html.parser\") \n",
    "titulo1 = parsed_html.find_all(\"li\", {\"class\": \"event\"})\n",
    "titulo1\n",
    "lis_1998 = []\n",
    "for i in titulo1:\n",
    "    ñ = i.get_text()\n",
    "    lis_1998.append(ñ)\n",
    "print(lis_1998)"
   ]
  },
  {
   "cell_type": "code",
   "execution_count": 46,
   "id": "e13daa37",
   "metadata": {},
   "outputs": [],
   "source": [
    "df_1998 = pd.DataFrame(lis_1998)\n",
    "df_1998['Año'] = '1998'"
   ]
  },
  {
   "cell_type": "code",
   "execution_count": 47,
   "id": "d4aefce1",
   "metadata": {},
   "outputs": [
    {
     "name": "stdout",
     "output_type": "stream",
     "text": [
      "[\"Jan 7 President Bill Clinton's impeachment trial begins in the US Senate after the House voted to impeach him for lying about his affair with Monica Lewinsky\", 'Feb 12 US President Bill Clinton acquitted by the Senate in his impeachment trial', 'Mar 29 The Dow Jones Industrial Average closes at 10006.78 - above the 10,000 mark for the first time ever', 'Apr 7 The World Trade Organization rules in favor of the United States in its long-running trade dispute with the European Union over bananas', 'Apr 20 Columbine High School massacre: Eric Harris and Dylan Klebold kill 13 people and injure 24 others before committing suicide at Columbine High School, Colorado', 'May 27 The International Criminal Tribunal for the former Yugoslavia indicts Slobodan Milošević and four others for war crimes and crimes against humanity committed in Kosovo', 'Oct 12 The Day of Six Billion: the proclaimed 6 billionth living human in the world is born', 'Mar 12 Janja Garnbret, Slovenian competitive climber, born in Slovenj Gradec, Slovenia', 'Mar 23 Prince Beltran of Bulgaria', 'Jul 20 Princess Alexandra of Hanover, daughter of Princess Caroline of Monaco', 'Aug 28 Prince Nikolai of Denmark, born in Copenhagen, Denmark', 'Sep 28 Olivia Jade Giannulli, American Youtuber (daughter of Mossimo Giannulli and Lori Loughlin)', \"Jan 23 Princess of Monaco Caroline (42) weds dynastic head of the House of Hanover and Britain's King George I descendant Prince Ernst August (45) in Monaco\", \"Jun 19 Earl of Wessex Prince Edward (35) weds Sophie Rhys-Jones (34) at St. George's Chapel at Windsor Castle\", 'Jun 25 Business magnate Rupert Murdoch (68) weds third wife businesswoman Wendi Deng (30) at the yacht Morning Glory in New York harbor', 'Jun 8 Media tycoon Rupert Murdoch (68) divorces journalist Anna Torv (55) after 31 years of marriage']\n"
     ]
    }
   ],
   "source": [
    "url = 'https://www.onthisday.com/history/date/1999#'\n",
    "r = requests.get(url)\n",
    "r = r.content\n",
    "parsed_html = bs4.BeautifulSoup(r, \"html.parser\") \n",
    "titulo1 = parsed_html.find_all(\"li\", {\"class\": \"event\"})\n",
    "titulo1\n",
    "lis_1999 = []\n",
    "for i in titulo1:\n",
    "    ñ = i.get_text()\n",
    "    lis_1999.append(ñ)\n",
    "print(lis_1999)"
   ]
  },
  {
   "cell_type": "code",
   "execution_count": 48,
   "id": "95aa8d10",
   "metadata": {},
   "outputs": [],
   "source": [
    "df_1999 = pd.DataFrame(lis_1999)\n",
    "df_1999['Año'] = '1999'"
   ]
  },
  {
   "cell_type": "code",
   "execution_count": 49,
   "id": "b3b69c6f",
   "metadata": {},
   "outputs": [
    {
     "name": "stdout",
     "output_type": "stream",
     "text": [
      "['Jan 13 Microsoft chairman Bill Gates steps aside as chief executive and promotes company president Steve Ballmer to the position', 'Mar 10 The NASDAQ Composite stock market index peaks at 5132.52, signalling the beginning of the end of the dot-com boom', \"May 11 India's population officially reaches 1 billion - Astha Arora named India's billionth baby\", 'Jun 13 South Korean President Kim Dae-jung meets leader of North Korea Kim Jong-il, for the beginning of the first ever inter-Korea summit, in the northern capital of Pyongyang', 'Jun 16 Israel complies with UN Security Council Resolution 425 after 22 years, which calls on Israel to completely withdraw from Lebanon. Israel withdraws from all of Lebanon, except the disputed Sheba Farms', 'Oct 5 Mass demonstrations in Belgrade culminate in the resignation of Serbian strongman Slobodan Milošević, often called the Bulldozer Revolution', \"Nov 7 Controversial US presidential election between George W. Bush and Al Gore is inconclusive; the result, in Bush's favor, is eventually resolved by the Supreme Court\", \"Dec 12 US Supreme Court releases its decision in Bush v. Gore, settling the recount dispute in Florida's 2000 presidential election in George W. Bush's favor and thus handing him the presidency\", 'Jul 16 Garfield cartoonist Jim Davis (54) weds Jill Davis', 'Aug 3 British PM Gordon Brown (49) weds Sarah Jane Macaulay (36) in North Queensferry, Fife', 'Aug 18 Former Speaker of the House Newt Gingrich (57) weds former congressional aide Calista Bisek (34) in Alexandria, Virginia']\n"
     ]
    }
   ],
   "source": [
    "url = 'https://www.onthisday.com/history/date/2000#'\n",
    "r = requests.get(url)\n",
    "r = r.content\n",
    "parsed_html = bs4.BeautifulSoup(r, \"html.parser\") \n",
    "titulo1 = parsed_html.find_all(\"li\", {\"class\": \"event\"})\n",
    "titulo1\n",
    "lis_2000 = []\n",
    "for i in titulo1:\n",
    "    ñ = i.get_text()\n",
    "    lis_2000.append(ñ)\n",
    "print(lis_2000)"
   ]
  },
  {
   "cell_type": "code",
   "execution_count": 50,
   "id": "a46bbb51",
   "metadata": {},
   "outputs": [],
   "source": [
    "df_2000 = pd.DataFrame(lis_2000)\n",
    "df_2000['Año'] = '2000'"
   ]
  },
  {
   "cell_type": "code",
   "execution_count": 51,
   "id": "a179acb0",
   "metadata": {},
   "outputs": [
    {
     "name": "stdout",
     "output_type": "stream",
     "text": [
      "['Jan 15 Wikipedia a free Wiki or content encyclopedia is launched by Jimmy Wales and Larry Sanger', 'Feb 12 NEAR Shoemaker spacecraft touchdown in the \"saddle\" region of 433 Eros becoming the first spacecraft to land on an asteroid.', 'Feb 15 First draft of the complete human genome is published in the journal \"Nature\"', 'Apr 1 Netherlands becomes the first country in the world to make same-sex marriage legal', 'Sep 11 Attempt by passengers and crew of United Airlines Flight 93 to retake control of their hijacked plane from terrorists causes plane to crash in Pennsylvania field killing all 64 people on board', 'Sep 11 Terrorists hijack a passenger plane and crash it into the Pentagon causing the deaths of 125 people', \"Sep 11 Two passenger planes hijacked by Al Qaeda terrorists crash into New York's World Trade Towers causing the collapse of both and deaths of 2,606 people\", 'Sep 20 In an address to a joint session of Congress and the American people, US President George W. Bush declares a \"war on terror\"', 'Oct 7 U.S. invasion of Afghanistan starts with an air assault and covert operations on the ground', 'Oct 8 US President George W. Bush announces the establishment of the Office of Homeland Security', 'Oct 23 The Provisional Irish Republican Army of Northern Ireland commences disarmament after peace talks', 'Jan 31 Ahed Tamimi, Pakistani activist who slapped Israeli officer, born in Nabi Salih, West Bank', 'Jun 10 Sasha [Natasha] Obama, American daughter of Barack and Michelle Obama, born in Chicago, Illinois', 'Jun 29 Elsa Majimbo, Kenyan internet comedienne, born in Nairobi, Kenya', 'Oct 7 Princess Senate Seeiso, daughter of King Letsie III of Lesotho, born in Maseru, Lesotho', 'Oct 25 Princess Elisabeth, Duchess of Brabant, heir apparent to the Belgian throne, born in Erasmus Hospital, Anderlecht, Brussels', 'Feb 2 Fashion designer Diane von Furstenberg (54) weds media tycoon Barry Diller', 'May 17 Fourth line of succession to the Dutch throne Prince Constantijn of the Netherlands (31) weds Princess Laurentien of the Netherlands (35) in The Hague, Netherlands', 'Aug 25 Crown Prince Haakon of Norway (28), eldest son of King Harald V weds commoner Mette-Marit Tjessem Høiby (28) at Oslo Cathedral in Norway']\n"
     ]
    }
   ],
   "source": [
    "url = 'https://www.onthisday.com/history/date/2001#'\n",
    "r = requests.get(url)\n",
    "r = r.content\n",
    "parsed_html = bs4.BeautifulSoup(r, \"html.parser\") \n",
    "titulo1 = parsed_html.find_all(\"li\", {\"class\": \"event\"})\n",
    "titulo1\n",
    "lis_2001 = []\n",
    "for i in titulo1:\n",
    "    ñ = i.get_text()\n",
    "    lis_2001.append(ñ)\n",
    "print(lis_2001)"
   ]
  },
  {
   "cell_type": "code",
   "execution_count": 52,
   "id": "395641e2",
   "metadata": {},
   "outputs": [],
   "source": [
    "df_2001 = pd.DataFrame(lis_2001)\n",
    "df_2001['Año'] = '2001'"
   ]
  },
  {
   "cell_type": "code",
   "execution_count": 53,
   "id": "ae5efd15",
   "metadata": {},
   "outputs": [
    {
     "name": "stdout",
     "output_type": "stream",
     "text": [
      "['Jan 29 US President George W. Bush in his State of the Union address describes \"regimes that sponsor terror\" an \"Axis of Evil\", which includes Iraq, Iran and North Korea', 'Mar 2 U.S. invasion of Afghanistan: US conventional forces first deployed as part of Operation Anaconda', \"May 12 Former US President Jimmy Carter arrives in Cuba for a five-day visit with Fidel Castro becoming first President of the United States, in or out of office, to visit the island since Castro's 1959 revolution.\", 'Jul 9 The African Union is established in Addis Ababa, Ethiopia. The first chairman is Thabo Mbeki, President of South Africa.', 'Nov 8 Iraq disarmament crisis: UN Security Council under Resolution 1441 unanimously approves a resolution on Iraq, forcing Saddam Hussein to disarm or face \"serious consequences\"', 'Dec 13 The European Union announces that Cyprus, the Czech Republic, Estonia, Hungary, Latvia, Lithuania, Malta, Poland, Slovakia and Slovenia will become members from May 1, 2004', 'Jun 3 Prince Tirso of Bulgaria, titular Bulgarian royal family', 'Jul 22 Prince Felix of Denmark, born in Rigshospitalet, Copenhagen, Denmark', 'Jul 30 Prince Hridayendra of Nepal, Nepalese royal, born in Kathmandu, Nepal', 'Jan 5 Former Atomic Kitten member Kerry Katona (21) weds \"Westlife\" member Brian McFadden (21) at the Church of the Immaculate Conception in Rathfeigh, County Meath, Republic of Ireland', 'Feb 2 Crown Prince Willem-Alexander of the Netherlands (34) weds Argentinean born Máxima Zorreguieta Cerruti (30) at the Beurs van Berlage in Amsterdam, Netherlands', 'Mar 21 King Mohammed VI of Morocco (38) weds information services engineer Salma Bennani (23) in Rabat, Morocco']\n"
     ]
    }
   ],
   "source": [
    "url = 'https://www.onthisday.com/history/date/2002#'\n",
    "r = requests.get(url)\n",
    "r = r.content\n",
    "parsed_html = bs4.BeautifulSoup(r, \"html.parser\") \n",
    "titulo1 = parsed_html.find_all(\"li\", {\"class\": \"event\"})\n",
    "titulo1\n",
    "lis_2002 = []\n",
    "for i in titulo1:\n",
    "    ñ = i.get_text()\n",
    "    lis_2002.append(ñ)\n",
    "print(lis_2002)"
   ]
  },
  {
   "cell_type": "code",
   "execution_count": 54,
   "id": "9c6b3237",
   "metadata": {},
   "outputs": [],
   "source": [
    "df_2002 = pd.DataFrame(lis_2002)\n",
    "df_2002['Año'] = '2002'"
   ]
  },
  {
   "cell_type": "code",
   "execution_count": 55,
   "id": "d333f1e6",
   "metadata": {},
   "outputs": [
    {
     "name": "stdout",
     "output_type": "stream",
     "text": [
      "[\"Feb 1 Space Shuttle Columbia disintegrates during reentry into the Earth's atmosphere, killing all seven astronauts aboard.\", 'Feb 15 An estimated 6-11 million people around the world take to the streets to protest against war with Iraq', 'Mar 13 The journal Nature reports that 350,000-year-old footprints of an upright-walking human have been found in Italy', 'Mar 19 Airstrikes by an American and British-led coalition signal the beginning of the Invasion of Iraq, without United Nations support and in defiance of world opinion', 'Apr 9 Baghdad falls to U.S. forces, ending the Invasion of Iraq, but resulting in widespread looting', 'Apr 14 The Human Genome Project is completed with 99% of the human genome sequenced to an accuracy of 99.99%', 'Apr 16 Treaty of Accession is signed in Athens admitting 10 new member states to the European Union', \"Jun 10 The Spirit Rover is launched, beginning NASA's Mars Exploration Rover mission\", 'Aug 11 NATO takes over command of the peacekeeping force in Afghanistan, marking its first major operation outside Europe in its 54-year-history.', 'Dec 13 Former Iraqi President Saddam Hussein is captured near his home town of Tikrit, during Operation Red Dawn by US forces', 'Apr 12 Prince Laurent of Belgium (39) weds land surveyor Claire Coombs (29) in Brussels, Belgium', 'May 10 Fashion designer Shoshanna Lonstein (28) weds investment analyst Joshua Gruss at the Metropolitan Club in New York City', 'Aug 10 Yuri Ivanovich Malenchenko becomes the first person to marry in space, marrying Ekaterina Dmitriev (on earth)']\n"
     ]
    }
   ],
   "source": [
    "url = 'https://www.onthisday.com/history/date/2003#'\n",
    "r = requests.get(url)\n",
    "r = r.content\n",
    "parsed_html = bs4.BeautifulSoup(r, \"html.parser\") \n",
    "titulo1 = parsed_html.find_all(\"li\", {\"class\": \"event\"})\n",
    "titulo1\n",
    "lis_2003 = []\n",
    "for i in titulo1:\n",
    "    ñ = i.get_text()\n",
    "    lis_2003.append(ñ)\n",
    "print(lis_2003)"
   ]
  },
  {
   "cell_type": "code",
   "execution_count": 56,
   "id": "a815e6d0",
   "metadata": {},
   "outputs": [],
   "source": [
    "df_2003 = pd.DataFrame(lis_2003)\n",
    "df_2003['Año'] = '2003'"
   ]
  },
  {
   "cell_type": "code",
   "execution_count": 57,
   "id": "42aa76e9",
   "metadata": {},
   "outputs": [
    {
     "name": "stdout",
     "output_type": "stream",
     "text": [
      "['Feb 4 Mark Zuckerberg launches Facebook from his Harvard dormitory room', 'Apr 8 Darfur conflict: The Humanitarian Ceasefire Agreement is signed by the Sudanese government and two rebel groups', 'May 17 Massachusetts becomes the first U.S. state to legalize same-sex marriage', 'May 26 The United States Army veteran Terry Nichols is found guilty of 161 state murder charges for helping carry out the Oklahoma City bombing.', 'Jul 5 First Indonesian presidential election by the people - first round (eventually won by Susilo Bambang Yudhoyono)', \"Nov 11 Yasser Arafat's death through unidentified causes confirmed by Palestine Liberation Organization, Mahmoud Abbas elected PLO chairman minutes later.\", 'Dec 8 Cuzco Declaration is signed in Cuzco, Peru, establishing the Union of South American Nations', 'Dec 26 9.3 magnitude earthquake creates a tsunami causing devastation in Sri Lanka, India, Indonesia, Thailand, Malaysia, the Maldives and edges of the Indian Ocean, killing 230,000 people', 'Jan 21 Princess Ingrid Alexandra of Norway', 'Feb 6 Princess Louise of Belgium, born in Woluwe-Saint-Lambert, Belgium', 'Mar 21 Count Claus-Casimir of Orange-Nassau, Jonkheer van Amsberg', 'May 10 The Gosselin Sextuplets', 'Apr 24 Prince Friso of Orange (35), 2nd son of Queen Beatrix of the Netherlands marries Mabel Wisse Smit (35) without formal permission of parliament.', 'May 14 Crown Prince Frederik of Denmark (35), eldest son of Margrethe II of Denmark and heir apparent, marries Mary Elizabeth Donaldson (32), at Copenhagen Cathedral', 'May 22 Felipe (later Felipe VI), Prince of Asturias, of the Spanish Royal Family weds Letizia Ortiz Rocasolano at The Almudena Cathedral in Madrid, Spain']\n"
     ]
    }
   ],
   "source": [
    "url = 'https://www.onthisday.com/history/date/2004#'\n",
    "r = requests.get(url)\n",
    "r = r.content\n",
    "parsed_html = bs4.BeautifulSoup(r, \"html.parser\") \n",
    "titulo1 = parsed_html.find_all(\"li\", {\"class\": \"event\"})\n",
    "titulo1\n",
    "lis_2004 = []\n",
    "for i in titulo1:\n",
    "    ñ = i.get_text()\n",
    "    lis_2004.append(ñ)\n",
    "print(lis_2004)"
   ]
  },
  {
   "cell_type": "code",
   "execution_count": 58,
   "id": "a2a0bd01",
   "metadata": {},
   "outputs": [],
   "source": [
    "df_2004 = pd.DataFrame(lis_2004)\n",
    "df_2004['Año'] = '2004'"
   ]
  },
  {
   "cell_type": "code",
   "execution_count": 59,
   "id": "37438cc2",
   "metadata": {},
   "outputs": [
    {
     "name": "stdout",
     "output_type": "stream",
     "text": [
      "['Feb 16 The Kyoto Protocol comes into force following its ratification by Russia committing industrialized nations to limit and reduce greenhouse gases', 'Feb 26 Hosni Mubarak, President of Egypt, orders the constitution changed to allow multi-candidate presidential elections, asking Egyptian parliament to amend Article 76', 'Apr 26 Under international pressure, Syria withdraws the last of its 14,000 troop military garrison in Lebanon, ending its 29-year military domination of that country.', 'Apr 27 The superjumbo jet aircraft Airbus A380 makes its first flight from Toulouse, France', \"Jul 7 Coordinated terrorist bomb blasts strike London's public transport system during the morning rush hour killing 52 and injuring 700\", 'Jul 7 Influenced by global Live 8 concerts, G8 leaders pledge to double 2004 levels of aid to Africa from US$25 to US$50 billion by the year 2010', 'Jul 28 The Provisional Irish Republican Army call an end to their thirty year long armed campaign in Northern Ireland', 'Aug 23 Hurricane Katrina forms over the Bahamas, later becoming a category 5 hurricane', 'Aug 29 Hurricane Katrina makes 2nd and 3rd landfall as a category 3 hurricane, devastating much of the U.S. Gulf Coast from Louisiana to Florida Panhandle. Kills more than 1,836, causes over $115 billion in damage.', 'Nov 8 Ellen Johnson-Sirleaf is elected president of Liberia, the first woman to lead an African country', 'Nov 22 Angela Merkel becomes the first female Chancellor of Germany', 'Jan 30 Prince Hashem bin Abdullah II, Jordanian royal, born in Amman, Jordan', 'Jun 5 Irene Urdangarin, granddaughter of King Juan Carlos I of Spain', 'Jun 26 Alexia Juliana Marcela Laurentien, Princess of the Netherlands, Princess of Orange-Nassau, second daughter of King Willem-Alexander and Queen Máxima, born in HMC Bronovo, The Hague, Netherlands', 'Sep 16 Princess Jalilah bint Ali of Jordan, eldest child of Prince Ali bin Al Hussein and Rym Brahimi, born in Amman, Jordan', 'Oct 4 Prince Emmanuel of Belgium', 'Apr 9 His Royal Highness Charles, Prince of Wales marries Camilla Parker Bowles', 'Apr 16 \"Survivor: All-Stars\" winner Amber Mariano (26) weds The Amazing Race star Rob Mariano (29) at the Atlantis Resort on Paradise Island in the Bahamas', 'Apr 19 \"Extra\" co-host Dayna Devon (35) weds plastic surgeon Dr. Brent Moelleken at the Hans Fahden Winery in Calistoga, California', 'Apr 8 Prince Joachim of Denmark (35) divorces Countess of Frederiksborg Alexandra (40) after 9 years of marriage']\n"
     ]
    }
   ],
   "source": [
    "url = 'https://www.onthisday.com/history/date/2005#'\n",
    "r = requests.get(url)\n",
    "r = r.content\n",
    "parsed_html = bs4.BeautifulSoup(r, \"html.parser\") \n",
    "titulo1 = parsed_html.find_all(\"li\", {\"class\": \"event\"})\n",
    "titulo1\n",
    "lis_2005 = []\n",
    "for i in titulo1:\n",
    "    ñ = i.get_text()\n",
    "    lis_2005.append(ñ)\n",
    "print(lis_2005)"
   ]
  },
  {
   "cell_type": "code",
   "execution_count": 60,
   "id": "509d3a47",
   "metadata": {},
   "outputs": [],
   "source": [
    "df_2005 = pd.DataFrame(lis_2005)\n",
    "df_2005['Año'] = '2005'"
   ]
  },
  {
   "cell_type": "code",
   "execution_count": 61,
   "id": "f5ca1fab",
   "metadata": {},
   "outputs": [
    {
     "name": "stdout",
     "output_type": "stream",
     "text": [
      "['Apr 22 243 people are injured in pro-democracy protest in Nepal after Nepali security forces open fire on protesters against King Gyanendra.', 'May 27 Earthquake strikes Java, Indonesia at 5:53:58 AM local time (22:53:58 UTC May 26) devastating Bantul and the city of Yogyakarta, killing over 6,600 people', 'Oct 4 WikiLeaks is launched, created by internet activist Julian Assange', 'Oct 9 North Korea conducts its first nuclear test, with an estimated yield of between 0.4-2 kilotons', 'Dec 6 NASA reveals photographs taken by Mars Global Surveyor suggesting the presence of liquid water on Mars', 'Jun 3 Countess Leonore, Member of the Dutch Royal Family', 'Jun 18 Countess Zaria of Orange-Nassau, Jonkvrouwe van Amsberg', 'Sep 6 Prince Hisahito of Akishino, Japan Imperial Family member, born in Aiiku Hospital, Tokyo, Japan', 'Jan 28 Jessica McClure (18), who at 18 months fell into an abandoned well weds Daniel Morales (32) in the Greenwood Church of Christ near Midland', 'Feb 3 \"The Science Guy\" Bill Nye (50) weds author/oboist Blair Tindall at Skirball Cultural Center in Los Angeles', 'Feb 14 American mobster and FBI informant Henry Hill (62) weds 3rd wife Lisa Caserta']\n"
     ]
    }
   ],
   "source": [
    "url = 'https://www.onthisday.com/history/date/2006#'\n",
    "r = requests.get(url)\n",
    "r = r.content\n",
    "parsed_html = bs4.BeautifulSoup(r, \"html.parser\") \n",
    "titulo1 = parsed_html.find_all(\"li\", {\"class\": \"event\"})\n",
    "titulo1\n",
    "lis_2006 = []\n",
    "for i in titulo1:\n",
    "    ñ = i.get_text()\n",
    "    lis_2006.append(ñ)\n",
    "print(lis_2006)"
   ]
  },
  {
   "cell_type": "code",
   "execution_count": 62,
   "id": "14f2c7da",
   "metadata": {},
   "outputs": [],
   "source": [
    "df_2006 = pd.DataFrame(lis_2006)\n",
    "df_2006['Año'] = '2006'"
   ]
  },
  {
   "cell_type": "code",
   "execution_count": 63,
   "id": "99d5e969",
   "metadata": {},
   "outputs": [
    {
     "name": "stdout",
     "output_type": "stream",
     "text": [
      "['Jan 4 The 110th United States Congress convenes and elects Nancy Pelosi as the 1st female Speaker of the House', 'Jan 9 Apple Inc CEO Steve Jobs announces the iPhone', 'May 8 A new Northern Ireland Executive is formed with Ian Paisley (Democratic Unionist Party) as First Minister and Martin McGuinness (Sinn Féin) as Deputy First Minister', 'Jul 31 Operation Banner, the presence of the British Army in Northern Ireland, and longest-running British Army operation ever, comes to an end', 'Oct 2 President Roh Moo-hyun of South Korea walks across the Military Demarcation Line into North Korea on his way to the second Inter-Korean Summit with North Korean leader Kim Jong-il', 'Feb 28 Princess Lalla Khadija of Morocco, born in Rabat, Morocco', 'Mar 19 Prince Abdullah bin Ali, Prince of Jordan', 'Apr 6 Princess Haalah bint Hashim, Princess of Jordan', 'Apr 10 Princess Ariane of the Netherlands, Dutch Princess, daughter of King Willem-Alexander and Queen Máxima, born in The Hague, Netherlands', 'Apr 18 Princess Haya Bint Al Hamzah, Princess of Jordan, born in Amman, Jordan', 'Feb 3 Jackass prankster Bam Margera (27) weds Missy Rothstein (26) in downtown Philadelphia', 'Feb 14 Former Atomic Kitten member Kerry Katona (26) weds Mark Croft in Gretna Green', 'Mar 3 Countess of Frederiksborg Alexandra Christina (42) weds Martin Jorgensen at Oster Egende Church in Fakse City, Denmark']\n"
     ]
    }
   ],
   "source": [
    "url = 'https://www.onthisday.com/history/date/2007#'\n",
    "r = requests.get(url)\n",
    "r = r.content\n",
    "parsed_html = bs4.BeautifulSoup(r, \"html.parser\") \n",
    "titulo1 = parsed_html.find_all(\"li\", {\"class\": \"event\"})\n",
    "titulo1\n",
    "lis_2007 = []\n",
    "for i in titulo1:\n",
    "    ñ = i.get_text()\n",
    "    lis_2007.append(ñ)\n",
    "print(lis_2007)"
   ]
  },
  {
   "cell_type": "code",
   "execution_count": 64,
   "id": "ab9187fb",
   "metadata": {},
   "outputs": [],
   "source": [
    "df_2007 = pd.DataFrame(lis_2007)\n",
    "df_2007['Año'] = '2007'"
   ]
  },
  {
   "cell_type": "code",
   "execution_count": 65,
   "id": "7c0b47e5",
   "metadata": {},
   "outputs": [
    {
     "name": "stdout",
     "output_type": "stream",
     "text": [
      "['Jan 21 Black Monday in worldwide stock markets. FTSE 100 had its biggest ever one-day points fall, European stocks closed with their worst result since 9/11, and Asian stocks drop as much as 15%.', 'Feb 24 Fidel Castro retires as the President of Cuba due to ill health after nearly fifty years', 'May 2 Cyclone Nargis makes landfall in Myanmar killing over 130,000 people and leaving millions of people homeless', 'May 12 Wenchuan earthquake, measuring 7.8 in magnitude occurs in Sichuan, China, killing over 87,000, injuring 374,643 and leaving homeless between 4.8 million and 11 million people', 'Sep 10 The Large Hadron Collider at CERN, described as the biggest scientific experiment in the history of mankind is powered up in Geneva, Switzerland', 'Sep 29 Dow Jones Industrial Average falls 777.68 points, its largest single-day point loss, following the bankruptcies of Lehman Brothers and Washington Mutual', 'Oct 24 \"Bloody Friday\" saw many of the world\\'s stock exchanges experienced the worst declines in their history, with drops of around 10% in most indices.', 'Nov 4 Barack Obama becomes the first African-American to be elected President of the United States, defeating Republican candidate John McCain', 'Apr 16 Princess Eléonore of Belgium, Belgian princess, born in Anderlecht, Belgium', 'Jun 19 Maddie Aldridge, daughter of Jamie Lynn Spears', 'Sep 29 Emma Tallulah Behn, Norwegian royal family member, daughter of Princess Marta Luisa', \"Mar 23 France's former first lady Cecilia Ciganer-Albeniz (50) weds Moroccan-born public relations executive Richard Attias (48) in Manhattan, New York\", 'Mar 29 Biggest Loser contestant Amy Hildreth (28) weds Marty Wolff (27) in Charleston, South Carolina', \"May 10 President George W. Bush's daughter Jenna Bush (26) weds Henry Hager (30) at the Bush family ranch in Crawford, Texas\", 'May 9 \"The View\" former co-host Star Jones (46) divorces investment banker Al Reynolds (39) after three-and-a-half years of marriage']\n"
     ]
    }
   ],
   "source": [
    "url = 'https://www.onthisday.com/history/date/2008#'\n",
    "r = requests.get(url)\n",
    "r = r.content\n",
    "parsed_html = bs4.BeautifulSoup(r, \"html.parser\") \n",
    "titulo1 = parsed_html.find_all(\"li\", {\"class\": \"event\"})\n",
    "titulo1\n",
    "lis_2008 = []\n",
    "for i in titulo1:\n",
    "    ñ = i.get_text()\n",
    "    lis_2008.append(ñ)\n",
    "print(lis_2008)"
   ]
  },
  {
   "cell_type": "code",
   "execution_count": 66,
   "id": "f1b2bdf2",
   "metadata": {},
   "outputs": [],
   "source": [
    "df_2008 = pd.DataFrame(lis_2008)\n",
    "df_2008['Año'] = '2008'"
   ]
  },
  {
   "cell_type": "code",
   "execution_count": 67,
   "id": "053582db",
   "metadata": {},
   "outputs": [
    {
     "name": "stdout",
     "output_type": "stream",
     "text": [
      "[\"Jan 20 Barack Obama, inaugurated as the 44th President of the United States of America, becomes the United States' first African-American president\", 'Mar 4 International Criminal Court issues an arrest warrant for Sudanese President Omar Hassan al-Bashir for war crimes and crimes against humanity in Darfur becoming the first sitting head of state to be indicted', 'Apr 30 Chrysler automobile company files for Chapter 11 bankruptcy', 'May 18 Sri Lankan Civil War: The LTTE are defeated by the Sri Lankan government, ending almost 26 years of fighting between the two sides.', 'Jan 26 Suleman octuplets born to Nadya Suleman in Bellflower, California - longest ever octuplet survival', \"Nov 19 Prince Gaston d'Orléans\", 'Mar 21 British songbird who soared to the top of the charts with her hit \"Unwritten\" Natasha Bedingfield (27) weds California businessman Matthew Robinson at Church Estate Vineyard\\'s in Malibu, California', \"May 15 Former Bachelorette star Jen Schefft (32) weds Chicago's public relations executive Joe Waterman (35) at the Private Dining Rooms of Spiaggia in Chicago, Illinois\", 'May 21 Prince Hubertus Michael von Sachsen-Coburg (33) weds investment banker Kelly Jeanne Rondestvedt on a civil ceremony in Coburg, Germany']\n"
     ]
    }
   ],
   "source": [
    "url = 'https://www.onthisday.com/history/date/2009#'\n",
    "r = requests.get(url)\n",
    "r = r.content\n",
    "parsed_html = bs4.BeautifulSoup(r, \"html.parser\") \n",
    "titulo1 = parsed_html.find_all(\"li\", {\"class\": \"event\"})\n",
    "titulo1\n",
    "lis_2009 = []\n",
    "for i in titulo1:\n",
    "    ñ = i.get_text()\n",
    "    lis_2009.append(ñ)\n",
    "print(lis_2009)"
   ]
  },
  {
   "cell_type": "code",
   "execution_count": 68,
   "id": "76938b63",
   "metadata": {},
   "outputs": [],
   "source": [
    "df_2009 = pd.DataFrame(lis_2009)\n",
    "df_2009['Año'] = '2009'"
   ]
  },
  {
   "cell_type": "code",
   "execution_count": 69,
   "id": "118d35f2",
   "metadata": {},
   "outputs": [
    {
     "name": "stdout",
     "output_type": "stream",
     "text": [
      "['Jan 12 Earthquake Devastates Haiti, killing approximately 160,000 and destroying the majority of the capital Port-au-Prince', 'Apr 20 The Deepwater Horizon drilling rig explodes, killing 11 and causing the rig to sink, causing a massive oil discharge into the Gulf of Mexico and an environmental disaster', 'Aug 19 Operation Iraqi Freedom ends, with the last of the United States brigade combat teams crossing the border to Kuwait', 'Oct 13 Copiapó mining accident in Chile comes to a happy end as all 33 miners arrive at the surface after surviving a record 69 days underground', 'Dec 22 Repeal of the \"Don\\'t Ask Don\\'t Tell policy\", a 17-year-old policy banning homosexuals serving openly in the US military, signed into law by President Barack Obama', 'May 20 Lady Cosima Windsor, daughter of Alexander Windsor, Earl of Ulster', 'May 28 Prince Louis of Bourbon, elder son of Prince Louis, Duke of Anjou', 'Apr 3 \"Love and Theft\" country trio Eric Gunderson weds Emily Hagar (24) at sunset on the front porch of the historic Hazel Path mansion in Hendersonville, Tennessee', 'May 29 \"Survivor: Fiji\" winner Earl Cole (39) weds pharmacist Shelley Lee at the St. Regis Princeville Resort on Kauai', 'Jun 19 Crown Princess Victoria heir apparent of HM Carl XVI Gustaf, King of Sweden, weds Daniel Westling at Stockholm Cathedral', 'Jun 6 Gossip Girl star Kelly Rutherford (40) divorces German entrepreneur Daniel Giersch (34) due to irreconcilable differences after 2 years of marriage', 'Sep 28 Oracle CEO Larry Ellison (66) divorces romance novelist Melanie Craft after six years of marriage']\n"
     ]
    }
   ],
   "source": [
    "url = 'https://www.onthisday.com/history/date/2010#'\n",
    "r = requests.get(url)\n",
    "r = r.content\n",
    "parsed_html = bs4.BeautifulSoup(r, \"html.parser\") \n",
    "titulo1 = parsed_html.find_all(\"li\", {\"class\": \"event\"})\n",
    "titulo1\n",
    "lis_2010 = []\n",
    "for i in titulo1:\n",
    "    ñ = i.get_text()\n",
    "    lis_2010.append(ñ)\n",
    "print(lis_2010)"
   ]
  },
  {
   "cell_type": "code",
   "execution_count": 70,
   "id": "4dae0b68",
   "metadata": {},
   "outputs": [],
   "source": [
    "df_2010 = pd.DataFrame(lis_2010)\n",
    "df_2010['Año'] = '2010'"
   ]
  },
  {
   "cell_type": "code",
   "execution_count": 71,
   "id": "7adc3ba0",
   "metadata": {},
   "outputs": [
    {
     "name": "stdout",
     "output_type": "stream",
     "text": [
      "['Jan 14 Tunisian president Ben Ali, flees to Saudi Arabia after popular protests known as the Jasmine Revolution', 'Jan 25 Egyptian Revolution of 2011 begins with a series of street demonstrations, rallies, acts of civil disobedience, labor strikes and violent clashes in Cairo, Alexandria and other major cities', 'Feb 11 Egyptian Revolution culminates in the resignation of Hosni Mubarak and the transfer of power to the Supreme Military Council after 18 days of protests (Arab Spring)', 'Mar 11 9.0 magnitude earthquake strikes 130 km (80 miles) east of Sendai, Japan, triggering a tsunami killing thousands of people and causing the second worst nuclear accident in history at Fukushima nuclear plant', 'Apr 19 Fidel Castro resigns his position of First Secretary of the Central Committee of the Communist Party of Cuba after 45 years of holding the title [1]', \"May 2 Osama bin Laden, the suspected mastermind behind the September 11 attacks and the FBI's most wanted man is killed by US special forces in Abbottabad, Pakistan\", 'Jul 22 Norway is the victim of twin terror attacks, the first a bomb blast targeting government buildings in central Oslo, second a massacre at a youth camp on island of Utøya', 'Oct 31 The world population reaches 7 billion inhabitants according to the United Nations', 'May 20 Doug the Pug, American internet celebrity dog, born in Ohio', \"Oct 6 Ryan Kaji, American Youtuber (Ryan's World), born in California\", 'Apr 29 Royal wedding of Duke and Duchess of Cambridge, Prince William and Catherine [Kate] Middleton held at Westminister Abbey, London', 'May 7 \"The Amazing Race\" winners Meghan Rickey and Cheyne Whitney marry at the Hard Rock Hotel, San Diego', 'Jun 11 Recording artist Lily Allen (26) weds Sam Cooper (32) at St. James The Great church in Gloucestershire, England']\n"
     ]
    }
   ],
   "source": [
    "url = 'https://www.onthisday.com/history/date/2011#'\n",
    "r = requests.get(url)\n",
    "r = r.content\n",
    "parsed_html = bs4.BeautifulSoup(r, \"html.parser\") \n",
    "titulo1 = parsed_html.find_all(\"li\", {\"class\": \"event\"})\n",
    "titulo1\n",
    "lis_2011 = []\n",
    "for i in titulo1:\n",
    "    ñ = i.get_text()\n",
    "    lis_2011.append(ñ)\n",
    "print(lis_2011)"
   ]
  },
  {
   "cell_type": "code",
   "execution_count": 72,
   "id": "081eea34",
   "metadata": {},
   "outputs": [],
   "source": [
    "df_2011 = pd.DataFrame(lis_2011)\n",
    "df_2011['Año'] = '2011'"
   ]
  },
  {
   "cell_type": "code",
   "execution_count": 73,
   "id": "7c4e4ce4",
   "metadata": {},
   "outputs": [
    {
     "name": "stdout",
     "output_type": "stream",
     "text": [
      "['Feb 27 Wikileaks begins disclosing 5 million emails from private intelligence company Stratfor', 'Jul 10 The American Episcopal Church becomes the first to approve a rite for blessing gay marriages', \"Jul 18 Kim Jong-un is officially appointed Supreme Leader of North Korea and given the rank of Marshal in the Korean People's Army\", 'Aug 16 Wikileaks founder, Julian Assange is granted political asylum by Ecuador', \"Nov 1 Scientists detect evidence of light from the universe's first stars, predicted to have formed 500 million years after the big bang\", 'Jan 7 Blue Ivy Carter, American daughter of Beyoncé and Jay-Z, born in New York City', 'Apr 4 Grumpy Cat [Tardar Sauce], American cat internet celebrity, born in Morristown, Arizona (d. 2019)', 'Mar 8 Former \"Raising Sextuplets\" star Jenny Masche weds longtime beau Levi McClendon in San Diego', 'May 19 Facebook CEO Mark Zuckerberg (28) weds his longtime girlfriend Priscilla Chan at a small ceremony in Palo Alto, California', \"Jun 2 Vice President Joe Biden's daughter Ashley Biden (30) weds Dr. Howard David Krein at St. Joseph on the Brandywine in Wilmington, Delaware\", 'Aug 20 The man known primarily for gatecrashing the White House, Tareq Salahi (42) divorces socialite Michaele Salahi (46) due to adultery, desertion and construction desertion', 'Dec 28 Astronaut Buzz Aldrin (82) divorces Lois Driggs Cannon due to irreconcilable differences after 23 years of marriage']\n"
     ]
    }
   ],
   "source": [
    "url = 'https://www.onthisday.com/history/date/2012#'\n",
    "r = requests.get(url)\n",
    "r = r.content\n",
    "parsed_html = bs4.BeautifulSoup(r, \"html.parser\") \n",
    "titulo1 = parsed_html.find_all(\"li\", {\"class\": \"event\"})\n",
    "titulo1\n",
    "lis_2012 = []\n",
    "for i in titulo1:\n",
    "    ñ = i.get_text()\n",
    "    lis_2012.append(ñ)\n",
    "print(lis_2012)"
   ]
  },
  {
   "cell_type": "code",
   "execution_count": 74,
   "id": "ba15413e",
   "metadata": {},
   "outputs": [],
   "source": [
    "df_2012 = pd.DataFrame(lis_2012)\n",
    "df_2012['Año'] = '2012'"
   ]
  },
  {
   "cell_type": "code",
   "execution_count": 75,
   "id": "8a255a77",
   "metadata": {},
   "outputs": [
    {
     "name": "stdout",
     "output_type": "stream",
     "text": [
      "['Jan 19 Calcium deposits are discovered on Mars by NASA’s Curiosity Rover', 'Feb 12 North Korea allegedly conducts its third nuclear test, saying it was a nuclear device that could be weaponized', \"Mar 14 Xi Jinping named the new President of the People's Republic of China\", 'May 16 Human stem cells are successfully cloned', 'Jul 18 Detroit, Michigan, files for bankruptcy, becoming the largest US municipal bankruptcy ever at $18.5 billion', 'Jan 19 \"Big Brother\" Daniele Donato (26) weds Dominic Briones at the Newland House Museum in Huntington Beach, California', 'Feb 14 Wedding planner to the stars Preston Bailey (63) weds Theo Bleckmann (47) at Empire State Building', 'Feb 16 \"Devious Maids\" actress Dania Ramirez (33) weds director Bev Land on the beach in Punta Cana, Dominican Republic', 'Jun 7 Russian President Vladimir Putin announces his divorce from his wife on national TV', 'Nov 20 Business magnate Rupert Murdoch (82) divorces Wendi Deng (44) due to irreconcilable differences after 13 years of marriage']\n"
     ]
    }
   ],
   "source": [
    "url = 'https://www.onthisday.com/history/date/2013#'\n",
    "r = requests.get(url)\n",
    "r = r.content\n",
    "parsed_html = bs4.BeautifulSoup(r, \"html.parser\") \n",
    "titulo1 = parsed_html.find_all(\"li\", {\"class\": \"event\"})\n",
    "titulo1\n",
    "lis_2013 = []\n",
    "for i in titulo1:\n",
    "    ñ = i.get_text()\n",
    "    lis_2013.append(ñ)\n",
    "print(lis_2013)"
   ]
  },
  {
   "cell_type": "code",
   "execution_count": 76,
   "id": "c9ed66f5",
   "metadata": {},
   "outputs": [],
   "source": [
    "df_2013 = pd.DataFrame(lis_2013)\n",
    "df_2013['Año'] = '2013'"
   ]
  },
  {
   "cell_type": "code",
   "execution_count": 77,
   "id": "8c17301f",
   "metadata": {},
   "outputs": [
    {
     "name": "stdout",
     "output_type": "stream",
     "text": [
      "['Feb 18 Ukrainian Revolution of 2014 begins as protesters, riot police and unknown shooters take part in violent events in the capital, Kiev, culminating after five days in the ouster of President Viktor Yanukovych', 'Mar 8 Malaysia Airlines Flight MH370 with 239 people loses contact and disappears, prompting the most expensive search effort in history and one of the most enduring aviation mysteries', 'Mar 21 Russia formally annexes Crimea amid international condemnation', 'May 17 The center-right Hindu Nationalist Party, the BJP, wins landslide election victory in India', \"May 22 Royal Thai Armed Forces, led by General Prayut Chan-o-cha stage a coup in Thailand, suspending the kingdom's constitution and taking control of the government, the 12th since the country's first coup in 1932\", 'Jun 11 Islamic State of Iraq forces seize control of government offices and other important buildings in the northern city of Mosul', 'Jul 17 Malaysia Airlines Flight 17 is shot down over Eastern Ukraine by a Buk surface-to-air missile launched from pro-Russian separatist-controlled territory, killing all 283 passengers and 15 crew on board', 'Jan 27 Nastya [Anastasia Radzinskaya] Russian YouTuber, born in Krasnodar Krai, Russia', 'Dec 10 Gabriella, Countess of Carladès, Princess of Monaco, born in Monaco', 'Dec 10 Jacques, Prince and heir of Monaco, born in Monaco', 'Jan 4 Actor Justin Bartha (35) weds personal trainer Lia Smith in Oahu, Hawaii', 'Jan 26 \"The Bachelor\" star Sean Lowe (30) weds graphic designer Catherine Giudici (27) at the Four Seasons Resort The Biltmore in Santa Barbara, California', 'Mar 8 Supermarket Superstar hostess Stacy Keibler (34) weds Future Ads CEO Jared Pobre on an intimate beachside ceremony in Mexico']\n"
     ]
    }
   ],
   "source": [
    "url = 'https://www.onthisday.com/history/date/2014#'\n",
    "r = requests.get(url)\n",
    "r = r.content\n",
    "parsed_html = bs4.BeautifulSoup(r, \"html.parser\") \n",
    "titulo1 = parsed_html.find_all(\"li\", {\"class\": \"event\"})\n",
    "titulo1\n",
    "lis_2014 = []\n",
    "for i in titulo1:\n",
    "    ñ = i.get_text()\n",
    "    lis_2014.append(ñ)\n",
    "print(lis_2014)"
   ]
  },
  {
   "cell_type": "code",
   "execution_count": 78,
   "id": "a99cc5b8",
   "metadata": {},
   "outputs": [],
   "source": [
    "df_2014 = pd.DataFrame(lis_2014)\n",
    "df_2014['Año'] = '2014'"
   ]
  },
  {
   "cell_type": "code",
   "execution_count": 79,
   "id": "40081464",
   "metadata": {},
   "outputs": [
    {
     "name": "stdout",
     "output_type": "stream",
     "text": [
      "['Apr 11 Barack Obama and Raúl Castro meet in Panama, the 1st meeting of US and Cuban heads of state since the Cuban Revolution', 'Jul 21 On This Day changes its domain name and brand from HistoryOrb.com to OnThisDay.com', \"Sep 9 Queen Elizabeth II becomes Great Britain's longest-reigning monarch at 63 years and seven months, beating the previous record set by her great-great-grandmother, Queen Victoria\", 'Oct 19 US scientists from University of California find evidence life on earth may have begun 4.1 billion years ago, 300 million earlier than previously thought', 'Oct 29 China announces the end of their one-child policy after 35 years', 'Dec 12 COP21 climate change summit in Paris reaches a deal between 195 countries to limit the rise in the global average temperature to less than 2°C above pre-industrial levels', 'May 2 Princess Charlotte of Cambridge, daughter of Prince William and Catherine, Duke and Duchess of Cambridge, 3rd in line to the English throne, born in London', 'Jun 15 Prince Nicolas of Sweden, Duke of Ångermanland, born in Danderyd']\n"
     ]
    }
   ],
   "source": [
    "url = 'https://www.onthisday.com/history/date/2015#'\n",
    "r = requests.get(url)\n",
    "r = r.content\n",
    "parsed_html = bs4.BeautifulSoup(r, \"html.parser\") \n",
    "titulo1 = parsed_html.find_all(\"li\", {\"class\": \"event\"})\n",
    "titulo1\n",
    "lis_2015 = []\n",
    "for i in titulo1:\n",
    "    ñ = i.get_text()\n",
    "    lis_2015.append(ñ)\n",
    "print(lis_2015)"
   ]
  },
  {
   "cell_type": "code",
   "execution_count": 80,
   "id": "5cc1d685",
   "metadata": {},
   "outputs": [],
   "source": [
    "df_2015 = pd.DataFrame(lis_2015)\n",
    "df_2015['Año'] = '2015'"
   ]
  },
  {
   "cell_type": "code",
   "execution_count": 81,
   "id": "141ec3bb",
   "metadata": {},
   "outputs": [
    {
     "name": "stdout",
     "output_type": "stream",
     "text": [
      "['Mar 20 Barack Obama becomes the first US President to visit Cuba since 1928, arriving for a 3 day tour', \"Apr 3 Panama Papers published - 11.5 million confidential documents from offshore law firm Mossack Fonseca expose widespread illegal activities including fraud, kleptocracy, tax evasion and the violation of international sanctions by the world's elite in the world's largest ever data leak\", 'Apr 22 Paris Agreement on climate change signed in New York binding 195 nations to an increase in the global average temperature to less than 2°C above pre-industrial levels and to pursue efforts to limit the increase to 1.5°C', 'Jun 23 Brexit referendum: United Kingdom votes to leave the European Union', \"Jun 26 Panama Canal's third set of locks opens for commercial traffic, doubling the Canal’s capacity at an estimated cost of $5.25 billion\", 'Nov 8 Republican Donald Trump is elected President of the United States of America, defeating democrat Hillary Clinton, who received 2.9 million more votes', 'Feb 5 Jigme Namgyel Wangchuck, heir to throne of Bhutan, born in Thimphu, Bhutan', 'Feb 27 \"The Voice\" winner RaeLynn Woodward weds Josh Davis in Nashville', 'May 7 Rich Kids of Beverly Hills star Morgan Stewart (27) weds cast-mate and real estate agent Brendan Fitzpatrick at the Hummingbird Nest Ranch in Santa Susana, California', 'May 28 The daughter of the duke of Wellington Lady Charlotte Anne Wellesley weds financier Alejandro Santo Domingo (39) in Íllora, Spain']\n"
     ]
    }
   ],
   "source": [
    "url = 'https://www.onthisday.com/history/date/2016#'\n",
    "r = requests.get(url)\n",
    "r = r.content\n",
    "parsed_html = bs4.BeautifulSoup(r, \"html.parser\") \n",
    "titulo1 = parsed_html.find_all(\"li\", {\"class\": \"event\"})\n",
    "titulo1\n",
    "lis_2016 = []\n",
    "for i in titulo1:\n",
    "    ñ = i.get_text()\n",
    "    lis_2016.append(ñ)\n",
    "print(lis_2016)"
   ]
  },
  {
   "cell_type": "code",
   "execution_count": 82,
   "id": "38b704e8",
   "metadata": {},
   "outputs": [],
   "source": [
    "df_2016 = pd.DataFrame(lis_2016)\n",
    "df_2016['Año'] = '2016'"
   ]
  },
  {
   "cell_type": "code",
   "execution_count": 83,
   "id": "8f236ac9",
   "metadata": {},
   "outputs": [
    {
     "name": "stdout",
     "output_type": "stream",
     "text": [
      "['Feb 17 Discovery of a new mostly underwater continent Zealandia in the South Pacific announced in research journal \"GSA Today\"', \"May 7 Emmanuel Macron wins France's presidential election defeating Marine Le Pen\", 'Jul 4 North Korea tests first successful intercontinental ballistic missile into Sea of Japan', 'Jul 9 Iraqi Prime Minister Haider al-Abadi proclaims victory over Islamic State forces in Mosul', 'Jul 20 China announces a plan against “foreign garbage” banning 24 categories of plastic and recyclable waste from 2018', 'Sep 5 Hurricane Irma becomes the most powerful hurricane ever recorded in the Atlantic Basin region with winds of 185mph (280km/h)', 'Oct 17 Islamic State headquarters Raqqa declared under full control of US-led alliance by Syrian Democratic Forces (SDF) spokesman Talal Sello after 4 months of fighting', 'Oct 25 Chinese Premier Xi Jinping unveils his new ruling council in the Great Hall of the People, none of the five are young enough to succeed him', \"Nov 21 Robert Mugabe's resignation after 37 years in power is read out in Zimbabwe's parliaments during impeachment proceedings\", 'Jan 8 \"Dancing with the stars\" pro Louis Van Amstel (44) weds health coach Joshua Lancaster in Utah', \"Apr 8 Trump's personal aide Omarosa Manigault (43) weds pastor John Allen Newman at the Trump International Hotel in Washington, D.C.\", 'Apr 22 \"Gotham\" star Chris Chalk weds Kimberley Dalton Mitchell at the North Carolina Arboretum in Asheville, North Carolina']\n"
     ]
    }
   ],
   "source": [
    "url = 'https://www.onthisday.com/history/date/2017#'\n",
    "r = requests.get(url)\n",
    "r = r.content\n",
    "parsed_html = bs4.BeautifulSoup(r, \"html.parser\") \n",
    "titulo1 = parsed_html.find_all(\"li\", {\"class\": \"event\"})\n",
    "titulo1\n",
    "lis_2017 = []\n",
    "for i in titulo1:\n",
    "    ñ = i.get_text()\n",
    "    lis_2017.append(ñ)\n",
    "print(lis_2017)"
   ]
  },
  {
   "cell_type": "code",
   "execution_count": 84,
   "id": "23b7a72a",
   "metadata": {},
   "outputs": [],
   "source": [
    "df_2017 = pd.DataFrame(lis_2017)\n",
    "df_2017['Año'] = '2017'"
   ]
  },
  {
   "cell_type": "code",
   "execution_count": 85,
   "id": "37f27c77",
   "metadata": {},
   "outputs": [
    {
     "name": "stdout",
     "output_type": "stream",
     "text": [
      "[\"Mar 11 China's National People's Congress approves removal of term limits for a leader, will allow Xi Jinping presidency for life\", 'Mar 22 US President Donald Trump imposes $60 billion worth of tariffs on Chinese imports', 'May 9 Historic win in Malaysian general election by opposition coalition Pakatan Harapan led by 92 year old former Prime Minister Dr. Mahathir bin Mohamad, defeating Prime Minister Najib Razak and ending 61 years of rule by the Barisan Nasional coalition', 'Jun 12 Singapore summit between North Korean leader Kim Jong-un and US President Donald Trump - first time a North Korean leader and an incumbent US President have ever met', 'Aug 2 Apple becomes the first American public listed company to reach $1 trillion in value', 'Sep 23 Indian Prime Minister Narendra Modi launches \"Modicare\", free heathcare for 500 million, world\\'s biggest healthcare program', 'Nov 23 US Federal Climate report finds climate change will reduce economy by 10% by 2100 with $141 billion cost from heat-related deaths, $118 billion from sea level rise', 'Apr 23 Prince Louis of Cambridge, second son of Prince William and Catherine, Duke and Duchess of Cambridge, 4th in line to the English throne, born in London', 'Mar 25 \"The View\" former co-host Star Jones (56) weds attorney Ricardo Lugo on a cruise ship in the Bahamas', \"Oct 12 Britain's Princess Eugenie marries Jack Brooksbank at St. George's Chapel, Windsor Castle, England\"]\n"
     ]
    }
   ],
   "source": [
    "url = 'https://www.onthisday.com/history/date/2018#'\n",
    "r = requests.get(url)\n",
    "r = r.content\n",
    "parsed_html = bs4.BeautifulSoup(r, \"html.parser\") \n",
    "titulo1 = parsed_html.find_all(\"li\", {\"class\": \"event\"})\n",
    "titulo1\n",
    "lis_2018 = []\n",
    "for i in titulo1:\n",
    "    ñ = i.get_text()\n",
    "    lis_2018.append(ñ)\n",
    "print(lis_2018)"
   ]
  },
  {
   "cell_type": "code",
   "execution_count": 86,
   "id": "d5b2d1ab",
   "metadata": {},
   "outputs": [],
   "source": [
    "df_2018 = pd.DataFrame(lis_2018)\n",
    "df_2018['Año'] = '2018'"
   ]
  },
  {
   "cell_type": "code",
   "execution_count": 87,
   "id": "45b24634",
   "metadata": {},
   "outputs": [
    {
     "name": "stdout",
     "output_type": "stream",
     "text": [
      "[\"Mar 13 US grounds all Boeing 737 Max aircraft after bans by others countries following the plane type's second crash in Ethiopia\", 'Mar 15 Climate change strikes held by school children take place around the world inspired by Swedish teenager Greta Thunberg', 'Mar 23 Syrian Democratic Forces announce that the last Islamic State territory has been retaken raising flags in Baghuz, Syria and ending the five-year Islamic State \"caliphate\"', 'Apr 11 Sudanese President Omar al-Bashir overthrown and arrested by the army in Khartoum after 29 years in power', 'Jun 9 Over 1 million people protest in Hong Kong over proposed new extradition laws to China in one of largest-ever protests in the city', 'Jul 24 Global warming is the fastest in 2,000 years and scientific consensus that humans are the cause is at 99%, according to three major reports published in journals \"Nature\" and \"Nature Geoscience\"', \"Sep 20 Students from 185 countries stage the world's largest-ever protest on climate change culminating in Manhattan rally led by Greta Thunberg\", 'Oct 26 Raid by US Special Forces kills ISIS founder Abu Bakr al-Baghdadi in Syria', 'Nov 23 Sumatran rhino officially declared extinct in Malaysia after last known specimen, 25-year-old Iman, dies of cancer in Sabah, Malaysian Borneo', \"Dec 12 British General Election won by Boris Johnson's Conservative Party in landslide win with 80 seat majority. Scottish National Party also wins 48 of 59 seats in Scotland.\", 'Dec 18 US House of Representatives votes to impeach President Donald Trump for abuse of power (230-197) and obstruction of Congress (229-198)', 'May 6 Archie Harrison Mountbatten-Windsor, British son of the Duke and Duchess of Sussex, born in London, England', 'Jan 1 Austrian women Nicole Kopaunik (37) and Daniela Paier (37) become the 1st same-sex couple to be officially married in the predominantly Catholic country, in a ceremony in Velden, southern Austria, shortly after midnight', \"Apr 4 Amazon's Jeff Bezos and MacKenzie Bezos agree record-breaking $35 billion divorce settlement\"]\n"
     ]
    }
   ],
   "source": [
    "url = 'https://www.onthisday.com/history/date/2019#'\n",
    "r = requests.get(url)\n",
    "r = r.content\n",
    "parsed_html = bs4.BeautifulSoup(r, \"html.parser\") \n",
    "titulo1 = parsed_html.find_all(\"li\", {\"class\": \"event\"})\n",
    "titulo1\n",
    "lis_2019 = []\n",
    "for i in titulo1:\n",
    "    ñ = i.get_text()\n",
    "    lis_2019.append(ñ)\n",
    "print(lis_2019)"
   ]
  },
  {
   "cell_type": "code",
   "execution_count": 88,
   "id": "0ef5f760",
   "metadata": {},
   "outputs": [],
   "source": [
    "df_2019 = pd.DataFrame(lis_2019)\n",
    "df_2019['Año'] = '2019'"
   ]
  },
  {
   "cell_type": "code",
   "execution_count": 89,
   "id": "4377dd67",
   "metadata": {},
   "outputs": [
    {
     "name": "stdout",
     "output_type": "stream",
     "text": [
      "[\"Jan 23 China locks down the city of Wuhan and its 9 million people, in a belated but ultimately successful effort to control the city's COVID-19 epidemic\", 'Mar 11 COVID-19 declared a pandemic by the head of the World Health Organization Tedros Adhanom Ghebreyesus, with 121,564 cases worldwide and 4,373 deaths', \"Mar 24 China's Hubei province, the original center of the COVID-19 outbreak eases restrictions on travel after a nearly two-month lockdown\", \"Mar 24 Indian PM Narendra Modi orders a 21 day lockdown for world's second most populous country of 1.3 billion people to deal with COVID-19\", 'Apr 2 Record 6.6 million Americans filed claims for unemployment in last week according to the US Department of Labor, 10 million over 2 weeks', \"May 25 Video of African American George Floyd's arrest and murder while restrained in Minneapolis police custody shows he was pinned to the ground by police officer Derek Chauvin's knee for 8 minutes and 46 seconds, ignites widespread condemnation and nationwide protests\", 'Jun 20 Highest-ever temperature recorded in the Arctic circle, 38C (100F) in Verkhoyansk, Siberia', 'Aug 9 Disputed Belarusian presidential election sees long time dictator Alexander Lukashenko officially win 80% of the votes but unofficially lose 60-70% of the votes to main opposition candidate Sviatlana Tsikhanouskaya. Sparks widespread protests in Belarus and international condemnation.', \"Sep 10 California's August Complex wildfire becomes largest recorded in state history at 471,000 acres (736 square miles)\", \"Sep 14 Astronomers report possible sign of life on Venus, after detecting phosphine in planets's atmosphere by telescope [1]\", 'Oct 5 US President Donald Trump leaves Walter Reed National Military Medical Center while still infectious with COVID-19 and returns to the White House', 'Oct 20 US Justice Department sues Google for illegal monopoly over search and search advertising', 'Nov 7 Former Vice-President Joe Biden declared the winner of the US Presidential race, four days after the US election, defeating sitting President Donald Trump', 'Nov 9 Drugmakers BioNTech and Pfizer announce their COVID-19 vaccine to be over 90% effective in a first look at the results from their phase 3 trial involving nearly 44,000 people', \"Jul 17 England's Princess Beatrice marries Edoardo Mapelli Mozzi at Windsor Castle\"]\n"
     ]
    }
   ],
   "source": [
    "url = 'https://www.onthisday.com/history/date/2020#'\n",
    "r = requests.get(url)\n",
    "r = r.content\n",
    "parsed_html = bs4.BeautifulSoup(r, \"html.parser\") \n",
    "titulo1 = parsed_html.find_all(\"li\", {\"class\": \"event\"})\n",
    "titulo1\n",
    "lis_2020 = []\n",
    "for i in titulo1:\n",
    "    ñ = i.get_text()\n",
    "    lis_2020.append(ñ)\n",
    "print(lis_2020)"
   ]
  },
  {
   "cell_type": "code",
   "execution_count": 90,
   "id": "132b05e3",
   "metadata": {},
   "outputs": [],
   "source": [
    "df_2020 = pd.DataFrame(lis_2020)\n",
    "df_2020['Año'] = '2020'"
   ]
  },
  {
   "cell_type": "code",
   "execution_count": 91,
   "id": "4f39162f",
   "metadata": {},
   "outputs": [
    {
     "name": "stdout",
     "output_type": "stream",
     "text": [
      "['Jan 4 1st Oxford-AstraZeneca COVID-19 vaccines given to the general public with 82 year old Brian Pinker in the UK first to be jabbed [1]', \"Jan 6 Supporters of President Donald Trump storm US Capitol in Washington during congressional certification of Joe Biden and Kamala Harris's win, resulting in five deaths and prompting evacuation of lawmakers and vice-president Mike Pence\", 'Feb 1 Military stage a coup in Myanmar, detaining civilian leaders including Aung San Suu Kyi and declare a one-year state of emergency', 'May 25 US CDC says half of all US adults are now fully vaccinated, with 61% having had their first shot', 'Jun 25 WHO head Tedros Adhanom Ghebreyesus confirms the COVID-19 Delta variant is the most transmissible to date, now present in 85 countries and spreading rapidly [1]', \"Jun 28 Tigray Defense Forces retake Tigray's regional capital of Mekelle in Ethiopia's Tigray War. The Ethiopian government declares a unilateral ceasefire to save face but neither side sticks to it. [1]\", 'Aug 15 Afghan President Ashraf Ghani flees the country as Taliban forces enter the capital Kabul and take control', \"Sep 14 1 in 500 Americans have died of COVID-19 as the nation's known death toll reaches 663,913 (Johns Hopkins) [1]\", \"Oct 6 WHO Director-General Tedros Adhanom Ghebreyesus recommends world's first Malaria vaccine (Mosquirix) for children after a pilot program was effective in Africa [1]\", 'Jun 4 Lilibet Diana Mountbatten-Windsor, daughter of the Duke and Duchess of Sussex, born in Santa Barbara, California', 'May 29 British Prime Minister Boris Johnson (56) marries third wife Carrie Symonds (33) at Westminster Cathedral, London', 'Jul 17 Radio host Bobby Bones marries Caitlin Parker at home in Nashville', 'Jul 24 Lady Kitty Spencer, niece of Diana, Princess of Wales, marries retail tycoon Michael Lewis, at the Villa Aldobrandini in Frascati, Italy', 'May 3 Bill Gates and his wife Melinda Gates announce their divorce after 27 years']\n"
     ]
    }
   ],
   "source": [
    "url = 'https://www.onthisday.com/history/date/2021#'\n",
    "r = requests.get(url)\n",
    "r = r.content\n",
    "parsed_html = bs4.BeautifulSoup(r, \"html.parser\") \n",
    "titulo1 = parsed_html.find_all(\"li\", {\"class\": \"event\"})\n",
    "titulo1\n",
    "lis_2021 = []\n",
    "for i in titulo1:\n",
    "    ñ = i.get_text()\n",
    "    lis_2021.append(ñ)\n",
    "print(lis_2021)"
   ]
  },
  {
   "cell_type": "code",
   "execution_count": 92,
   "id": "9c19fa9a",
   "metadata": {},
   "outputs": [],
   "source": [
    "df_2021 = pd.DataFrame(lis_2021)\n",
    "df_2021['Año'] = '2021'"
   ]
  },
  {
   "cell_type": "code",
   "execution_count": 93,
   "id": "0a0aa627",
   "metadata": {},
   "outputs": [
    {
     "name": "stdout",
     "output_type": "stream",
     "text": [
      "['Feb 24 Russian leader Vladimir Putin announces the start of a “special military operation” in Ukraine to \"demilitarize\" the country moments before Russia launches a full-scale pre-dawn invasion by land, air and sea, with bombings in several cities amid international condemnation [1] [2]', \"Mar 29 In a major victory for Ukraine, Russia announces it is withdrawing its badly mauled forces from around Ukraine's capital, Kyiv\", 'Jun 24 US Supreme Court overturns Roe v. Wade, eliminating constitutional right to choose abortion, in a 6-3 vote [1] [2]', 'Aug 3 US House Speaker Nancy Pelosi is the first speaker to visit Taiwan in 25 years, prompting condemnation from the Chinese Communist Party [1]', \"Sep 8 Queen Elizabeth II dies at Balmoral Castle after ruling for 70 years, as the UK's longest-serving monarch. Her eldest son inherits the throne as King Charles III. [1]\", 'Mar 23 WikiLeaks founder Julian Assange (50) marries Stella Moris in prison in Belmarsh prison, London']\n"
     ]
    }
   ],
   "source": [
    "url = 'https://www.onthisday.com/history/date/2022#'\n",
    "r = requests.get(url)\n",
    "r = r.content\n",
    "parsed_html = bs4.BeautifulSoup(r, \"html.parser\") \n",
    "titulo1 = parsed_html.find_all(\"li\", {\"class\": \"event\"})\n",
    "titulo1\n",
    "lis_2022 = []\n",
    "for i in titulo1:\n",
    "    ñ = i.get_text()\n",
    "    lis_2022.append(ñ)\n",
    "print(lis_2022)"
   ]
  },
  {
   "cell_type": "code",
   "execution_count": 94,
   "id": "773f09c6",
   "metadata": {},
   "outputs": [],
   "source": [
    "df_2022 = pd.DataFrame(lis_2022)\n",
    "df_2022['Año'] = '2022'"
   ]
  },
  {
   "cell_type": "code",
   "execution_count": null,
   "id": "b540e5fa",
   "metadata": {},
   "outputs": [],
   "source": []
  },
  {
   "cell_type": "code",
   "execution_count": 95,
   "id": "e159af43",
   "metadata": {},
   "outputs": [],
   "source": [
    "df_años = pd.concat([df_1980, df_1981,df_1982,df_1983,df_1984,df_1985,df_1986,df_1987,df_1988,df_1989,df_1990,df_1991,df_1992,df_1993,df_1994,df_1995,df_1996,df_1997,df_1998,df_1999,df_2000,df_2001,df_2002,df_2003,df_2004,df_2005,df_2006,df_2007,df_2008,df_2009,df_2010,df_2011,df_2012,df_2013,df_2014,df_2015,df_2016,df_2017,df_2018,df_2019,df_2020,df_2021,df_2022])"
   ]
  },
  {
   "cell_type": "code",
   "execution_count": 96,
   "id": "5114362f",
   "metadata": {},
   "outputs": [
    {
     "data": {
      "text/html": [
       "<div>\n",
       "<style scoped>\n",
       "    .dataframe tbody tr th:only-of-type {\n",
       "        vertical-align: middle;\n",
       "    }\n",
       "\n",
       "    .dataframe tbody tr th {\n",
       "        vertical-align: top;\n",
       "    }\n",
       "\n",
       "    .dataframe thead th {\n",
       "        text-align: right;\n",
       "    }\n",
       "</style>\n",
       "<table border=\"1\" class=\"dataframe\">\n",
       "  <thead>\n",
       "    <tr style=\"text-align: right;\">\n",
       "      <th></th>\n",
       "      <th>index</th>\n",
       "      <th>0</th>\n",
       "      <th>Año</th>\n",
       "    </tr>\n",
       "  </thead>\n",
       "  <tbody>\n",
       "    <tr>\n",
       "      <th>0</th>\n",
       "      <td>0</td>\n",
       "      <td>Apr 20 Climax of Berber Spring in Algeria sees...</td>\n",
       "      <td>1980</td>\n",
       "    </tr>\n",
       "    <tr>\n",
       "      <th>1</th>\n",
       "      <td>1</td>\n",
       "      <td>May 5 Siege at Iranian Embassy in London ends ...</td>\n",
       "      <td>1980</td>\n",
       "    </tr>\n",
       "    <tr>\n",
       "      <th>2</th>\n",
       "      <td>2</td>\n",
       "      <td>May 8 World Health Organization announces smal...</td>\n",
       "      <td>1980</td>\n",
       "    </tr>\n",
       "    <tr>\n",
       "      <th>3</th>\n",
       "      <td>3</td>\n",
       "      <td>Aug 14 17,000 workers go on strike at the Leni...</td>\n",
       "      <td>1980</td>\n",
       "    </tr>\n",
       "    <tr>\n",
       "      <th>4</th>\n",
       "      <td>4</td>\n",
       "      <td>Sep 22 Iraq invades Iran in an attempt to cont...</td>\n",
       "      <td>1980</td>\n",
       "    </tr>\n",
       "    <tr>\n",
       "      <th>...</th>\n",
       "      <td>...</td>\n",
       "      <td>...</td>\n",
       "      <td>...</td>\n",
       "    </tr>\n",
       "    <tr>\n",
       "      <th>570</th>\n",
       "      <td>1</td>\n",
       "      <td>Mar 29 In a major victory for Ukraine, Russia ...</td>\n",
       "      <td>2022</td>\n",
       "    </tr>\n",
       "    <tr>\n",
       "      <th>571</th>\n",
       "      <td>2</td>\n",
       "      <td>Jun 24 US Supreme Court overturns Roe v. Wade,...</td>\n",
       "      <td>2022</td>\n",
       "    </tr>\n",
       "    <tr>\n",
       "      <th>572</th>\n",
       "      <td>3</td>\n",
       "      <td>Aug 3 US House Speaker Nancy Pelosi is the fir...</td>\n",
       "      <td>2022</td>\n",
       "    </tr>\n",
       "    <tr>\n",
       "      <th>573</th>\n",
       "      <td>4</td>\n",
       "      <td>Sep 8 Queen Elizabeth II dies at Balmoral Cast...</td>\n",
       "      <td>2022</td>\n",
       "    </tr>\n",
       "    <tr>\n",
       "      <th>574</th>\n",
       "      <td>5</td>\n",
       "      <td>Mar 23 WikiLeaks founder Julian Assange (50) m...</td>\n",
       "      <td>2022</td>\n",
       "    </tr>\n",
       "  </tbody>\n",
       "</table>\n",
       "<p>575 rows × 3 columns</p>\n",
       "</div>"
      ],
      "text/plain": [
       "     index                                                  0   Año\n",
       "0        0  Apr 20 Climax of Berber Spring in Algeria sees...  1980\n",
       "1        1  May 5 Siege at Iranian Embassy in London ends ...  1980\n",
       "2        2  May 8 World Health Organization announces smal...  1980\n",
       "3        3  Aug 14 17,000 workers go on strike at the Leni...  1980\n",
       "4        4  Sep 22 Iraq invades Iran in an attempt to cont...  1980\n",
       "..     ...                                                ...   ...\n",
       "570      1  Mar 29 In a major victory for Ukraine, Russia ...  2022\n",
       "571      2  Jun 24 US Supreme Court overturns Roe v. Wade,...  2022\n",
       "572      3  Aug 3 US House Speaker Nancy Pelosi is the fir...  2022\n",
       "573      4  Sep 8 Queen Elizabeth II dies at Balmoral Cast...  2022\n",
       "574      5  Mar 23 WikiLeaks founder Julian Assange (50) m...  2022\n",
       "\n",
       "[575 rows x 3 columns]"
      ]
     },
     "execution_count": 96,
     "metadata": {},
     "output_type": "execute_result"
    }
   ],
   "source": [
    "df_años.reset_index()"
   ]
  },
  {
   "cell_type": "code",
   "execution_count": 97,
   "id": "1ecbfd42",
   "metadata": {},
   "outputs": [],
   "source": [
    "events_years = df_años.rename(columns={0:'Events',\n",
    "                                   'index':'no'})"
   ]
  },
  {
   "cell_type": "code",
   "execution_count": 98,
   "id": "f02abdf5",
   "metadata": {},
   "outputs": [
    {
     "data": {
      "text/html": [
       "<div>\n",
       "<style scoped>\n",
       "    .dataframe tbody tr th:only-of-type {\n",
       "        vertical-align: middle;\n",
       "    }\n",
       "\n",
       "    .dataframe tbody tr th {\n",
       "        vertical-align: top;\n",
       "    }\n",
       "\n",
       "    .dataframe thead th {\n",
       "        text-align: right;\n",
       "    }\n",
       "</style>\n",
       "<table border=\"1\" class=\"dataframe\">\n",
       "  <thead>\n",
       "    <tr style=\"text-align: right;\">\n",
       "      <th></th>\n",
       "      <th>Events</th>\n",
       "      <th>Año</th>\n",
       "    </tr>\n",
       "  </thead>\n",
       "  <tbody>\n",
       "    <tr>\n",
       "      <th>0</th>\n",
       "      <td>Apr 20 Climax of Berber Spring in Algeria sees...</td>\n",
       "      <td>1980</td>\n",
       "    </tr>\n",
       "    <tr>\n",
       "      <th>1</th>\n",
       "      <td>May 5 Siege at Iranian Embassy in London ends ...</td>\n",
       "      <td>1980</td>\n",
       "    </tr>\n",
       "    <tr>\n",
       "      <th>2</th>\n",
       "      <td>May 8 World Health Organization announces smal...</td>\n",
       "      <td>1980</td>\n",
       "    </tr>\n",
       "    <tr>\n",
       "      <th>3</th>\n",
       "      <td>Aug 14 17,000 workers go on strike at the Leni...</td>\n",
       "      <td>1980</td>\n",
       "    </tr>\n",
       "    <tr>\n",
       "      <th>4</th>\n",
       "      <td>Sep 22 Iraq invades Iran in an attempt to cont...</td>\n",
       "      <td>1980</td>\n",
       "    </tr>\n",
       "    <tr>\n",
       "      <th>...</th>\n",
       "      <td>...</td>\n",
       "      <td>...</td>\n",
       "    </tr>\n",
       "    <tr>\n",
       "      <th>570</th>\n",
       "      <td>Mar 29 In a major victory for Ukraine, Russia ...</td>\n",
       "      <td>2022</td>\n",
       "    </tr>\n",
       "    <tr>\n",
       "      <th>571</th>\n",
       "      <td>Jun 24 US Supreme Court overturns Roe v. Wade,...</td>\n",
       "      <td>2022</td>\n",
       "    </tr>\n",
       "    <tr>\n",
       "      <th>572</th>\n",
       "      <td>Aug 3 US House Speaker Nancy Pelosi is the fir...</td>\n",
       "      <td>2022</td>\n",
       "    </tr>\n",
       "    <tr>\n",
       "      <th>573</th>\n",
       "      <td>Sep 8 Queen Elizabeth II dies at Balmoral Cast...</td>\n",
       "      <td>2022</td>\n",
       "    </tr>\n",
       "    <tr>\n",
       "      <th>574</th>\n",
       "      <td>Mar 23 WikiLeaks founder Julian Assange (50) m...</td>\n",
       "      <td>2022</td>\n",
       "    </tr>\n",
       "  </tbody>\n",
       "</table>\n",
       "<p>575 rows × 2 columns</p>\n",
       "</div>"
      ],
      "text/plain": [
       "                                                Events   Año\n",
       "0    Apr 20 Climax of Berber Spring in Algeria sees...  1980\n",
       "1    May 5 Siege at Iranian Embassy in London ends ...  1980\n",
       "2    May 8 World Health Organization announces smal...  1980\n",
       "3    Aug 14 17,000 workers go on strike at the Leni...  1980\n",
       "4    Sep 22 Iraq invades Iran in an attempt to cont...  1980\n",
       "..                                                 ...   ...\n",
       "570  Mar 29 In a major victory for Ukraine, Russia ...  2022\n",
       "571  Jun 24 US Supreme Court overturns Roe v. Wade,...  2022\n",
       "572  Aug 3 US House Speaker Nancy Pelosi is the fir...  2022\n",
       "573  Sep 8 Queen Elizabeth II dies at Balmoral Cast...  2022\n",
       "574  Mar 23 WikiLeaks founder Julian Assange (50) m...  2022\n",
       "\n",
       "[575 rows x 2 columns]"
      ]
     },
     "execution_count": 98,
     "metadata": {},
     "output_type": "execute_result"
    }
   ],
   "source": [
    "events_years.reset_index(drop=True)"
   ]
  },
  {
   "cell_type": "code",
   "execution_count": null,
   "id": "91bc691d",
   "metadata": {},
   "outputs": [],
   "source": []
  },
  {
   "cell_type": "code",
   "execution_count": 179,
   "id": "d7b32fbe",
   "metadata": {},
   "outputs": [],
   "source": [
    "events_years.to_csv('events_years.csv')"
   ]
  },
  {
   "cell_type": "code",
   "execution_count": 17,
   "id": "6f2a022b",
   "metadata": {},
   "outputs": [],
   "source": [
    "events = pd.read_csv('/Users/anadeondarza/Desktop/ironhack_data/challenges/Proyecto final/events.csv')"
   ]
  },
  {
   "cell_type": "code",
   "execution_count": 18,
   "id": "3ae6887a",
   "metadata": {},
   "outputs": [
    {
     "data": {
      "text/html": [
       "<div>\n",
       "<style scoped>\n",
       "    .dataframe tbody tr th:only-of-type {\n",
       "        vertical-align: middle;\n",
       "    }\n",
       "\n",
       "    .dataframe tbody tr th {\n",
       "        vertical-align: top;\n",
       "    }\n",
       "\n",
       "    .dataframe thead th {\n",
       "        text-align: right;\n",
       "    }\n",
       "</style>\n",
       "<table border=\"1\" class=\"dataframe\">\n",
       "  <thead>\n",
       "    <tr style=\"text-align: right;\">\n",
       "      <th></th>\n",
       "      <th>Unnamed: 0.1</th>\n",
       "      <th>Unnamed: 0</th>\n",
       "      <th>Events</th>\n",
       "      <th>Año</th>\n",
       "      <th>sentiment</th>\n",
       "    </tr>\n",
       "  </thead>\n",
       "  <tbody>\n",
       "    <tr>\n",
       "      <th>0</th>\n",
       "      <td>0</td>\n",
       "      <td>0</td>\n",
       "      <td>Apr 20 Climax of Berber Spring in Algeria sees...</td>\n",
       "      <td>1980</td>\n",
       "      <td>NEGATIVE</td>\n",
       "    </tr>\n",
       "    <tr>\n",
       "      <th>1</th>\n",
       "      <td>1</td>\n",
       "      <td>1</td>\n",
       "      <td>May 5 Siege at Iranian Embassy in London ends ...</td>\n",
       "      <td>1980</td>\n",
       "      <td>NEGATIVE</td>\n",
       "    </tr>\n",
       "    <tr>\n",
       "      <th>2</th>\n",
       "      <td>2</td>\n",
       "      <td>2</td>\n",
       "      <td>May 8 World Health Organization announces smal...</td>\n",
       "      <td>1980</td>\n",
       "      <td>NEGATIVE</td>\n",
       "    </tr>\n",
       "    <tr>\n",
       "      <th>3</th>\n",
       "      <td>3</td>\n",
       "      <td>3</td>\n",
       "      <td>Aug 14 17,000 workers go on strike at the Leni...</td>\n",
       "      <td>1980</td>\n",
       "      <td>POSITIVE</td>\n",
       "    </tr>\n",
       "    <tr>\n",
       "      <th>4</th>\n",
       "      <td>4</td>\n",
       "      <td>4</td>\n",
       "      <td>Sep 22 Iraq invades Iran in an attempt to cont...</td>\n",
       "      <td>1980</td>\n",
       "      <td>NEGATIVE</td>\n",
       "    </tr>\n",
       "    <tr>\n",
       "      <th>...</th>\n",
       "      <td>...</td>\n",
       "      <td>...</td>\n",
       "      <td>...</td>\n",
       "      <td>...</td>\n",
       "      <td>...</td>\n",
       "    </tr>\n",
       "    <tr>\n",
       "      <th>570</th>\n",
       "      <td>570</td>\n",
       "      <td>1</td>\n",
       "      <td>Mar 29 In a major victory for Ukraine, Russia ...</td>\n",
       "      <td>2022</td>\n",
       "      <td>NEGATIVE</td>\n",
       "    </tr>\n",
       "    <tr>\n",
       "      <th>571</th>\n",
       "      <td>571</td>\n",
       "      <td>2</td>\n",
       "      <td>Jun 24 US Supreme Court overturns Roe v. Wade,...</td>\n",
       "      <td>2022</td>\n",
       "      <td>NEGATIVE</td>\n",
       "    </tr>\n",
       "    <tr>\n",
       "      <th>572</th>\n",
       "      <td>572</td>\n",
       "      <td>3</td>\n",
       "      <td>Aug 3 US House Speaker Nancy Pelosi is the fir...</td>\n",
       "      <td>2022</td>\n",
       "      <td>POSITIVE</td>\n",
       "    </tr>\n",
       "    <tr>\n",
       "      <th>573</th>\n",
       "      <td>573</td>\n",
       "      <td>4</td>\n",
       "      <td>Sep 8 Queen Elizabeth II dies at Balmoral Cast...</td>\n",
       "      <td>2022</td>\n",
       "      <td>POSITIVE</td>\n",
       "    </tr>\n",
       "    <tr>\n",
       "      <th>574</th>\n",
       "      <td>574</td>\n",
       "      <td>5</td>\n",
       "      <td>Mar 23 WikiLeaks founder Julian Assange (50) m...</td>\n",
       "      <td>2022</td>\n",
       "      <td>NEGATIVE</td>\n",
       "    </tr>\n",
       "  </tbody>\n",
       "</table>\n",
       "<p>575 rows × 5 columns</p>\n",
       "</div>"
      ],
      "text/plain": [
       "     Unnamed: 0.1  Unnamed: 0  \\\n",
       "0               0           0   \n",
       "1               1           1   \n",
       "2               2           2   \n",
       "3               3           3   \n",
       "4               4           4   \n",
       "..            ...         ...   \n",
       "570           570           1   \n",
       "571           571           2   \n",
       "572           572           3   \n",
       "573           573           4   \n",
       "574           574           5   \n",
       "\n",
       "                                                Events   Año sentiment  \n",
       "0    Apr 20 Climax of Berber Spring in Algeria sees...  1980  NEGATIVE  \n",
       "1    May 5 Siege at Iranian Embassy in London ends ...  1980  NEGATIVE  \n",
       "2    May 8 World Health Organization announces smal...  1980  NEGATIVE  \n",
       "3    Aug 14 17,000 workers go on strike at the Leni...  1980  POSITIVE  \n",
       "4    Sep 22 Iraq invades Iran in an attempt to cont...  1980  NEGATIVE  \n",
       "..                                                 ...   ...       ...  \n",
       "570  Mar 29 In a major victory for Ukraine, Russia ...  2022  NEGATIVE  \n",
       "571  Jun 24 US Supreme Court overturns Roe v. Wade,...  2022  NEGATIVE  \n",
       "572  Aug 3 US House Speaker Nancy Pelosi is the fir...  2022  POSITIVE  \n",
       "573  Sep 8 Queen Elizabeth II dies at Balmoral Cast...  2022  POSITIVE  \n",
       "574  Mar 23 WikiLeaks founder Julian Assange (50) m...  2022  NEGATIVE  \n",
       "\n",
       "[575 rows x 5 columns]"
      ]
     },
     "execution_count": 18,
     "metadata": {},
     "output_type": "execute_result"
    }
   ],
   "source": [
    "events"
   ]
  },
  {
   "cell_type": "code",
   "execution_count": null,
   "id": "b636b7fd",
   "metadata": {},
   "outputs": [],
   "source": [
    "j = [i for i in x if isinstance(i, str)]"
   ]
  },
  {
   "cell_type": "code",
   "execution_count": 21,
   "id": "a9e002de",
   "metadata": {},
   "outputs": [],
   "source": [
    "events['Año'] = events['Año'].values.astype(str)"
   ]
  },
  {
   "cell_type": "code",
   "execution_count": 22,
   "id": "71742fac",
   "metadata": {},
   "outputs": [
    {
     "name": "stdout",
     "output_type": "stream",
     "text": [
      "<class 'pandas.core.frame.DataFrame'>\n",
      "RangeIndex: 575 entries, 0 to 574\n",
      "Data columns (total 5 columns):\n",
      " #   Column        Non-Null Count  Dtype \n",
      "---  ------        --------------  ----- \n",
      " 0   Unnamed: 0.1  575 non-null    int64 \n",
      " 1   Unnamed: 0    575 non-null    int64 \n",
      " 2   Events        575 non-null    object\n",
      " 3   Año           575 non-null    object\n",
      " 4   sentiment     575 non-null    object\n",
      "dtypes: int64(2), object(3)\n",
      "memory usage: 22.6+ KB\n"
     ]
    }
   ],
   "source": [
    "events.info()"
   ]
  },
  {
   "cell_type": "code",
   "execution_count": 24,
   "id": "148b1110",
   "metadata": {},
   "outputs": [],
   "source": [
    "events.to_csv('events_1.csv')"
   ]
  },
  {
   "cell_type": "code",
   "execution_count": null,
   "id": "ee3427c5",
   "metadata": {},
   "outputs": [],
   "source": []
  }
 ],
 "metadata": {
  "kernelspec": {
   "display_name": "Python [conda env:jp_env] *",
   "language": "python",
   "name": "conda-env-jp_env-py"
  },
  "language_info": {
   "codemirror_mode": {
    "name": "ipython",
    "version": 3
   },
   "file_extension": ".py",
   "mimetype": "text/x-python",
   "name": "python",
   "nbconvert_exporter": "python",
   "pygments_lexer": "ipython3",
   "version": "3.9.12"
  }
 },
 "nbformat": 4,
 "nbformat_minor": 5
}
