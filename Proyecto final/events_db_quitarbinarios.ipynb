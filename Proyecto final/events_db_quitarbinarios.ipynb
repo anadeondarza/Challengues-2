{
 "cells": [
  {
   "cell_type": "code",
   "execution_count": 1,
   "id": "7cb52dbe",
   "metadata": {},
   "outputs": [],
   "source": [
    "import pandas as pd\n",
    "import numpy as np"
   ]
  },
  {
   "cell_type": "code",
   "execution_count": 2,
   "id": "0b48ce4b",
   "metadata": {},
   "outputs": [],
   "source": [
    "df_events = pd.read_csv('/Users/anadeondarza/Desktop/ironhack_data/challenges/Proyecto final/events_1.csv')"
   ]
  },
  {
   "cell_type": "code",
   "execution_count": 3,
   "id": "a97f855b",
   "metadata": {},
   "outputs": [
    {
     "name": "stdout",
     "output_type": "stream",
     "text": [
      "<class 'pandas.core.frame.DataFrame'>\n",
      "RangeIndex: 575 entries, 0 to 574\n",
      "Data columns (total 6 columns):\n",
      " #   Column        Non-Null Count  Dtype \n",
      "---  ------        --------------  ----- \n",
      " 0   Unnamed: 0.2  575 non-null    int64 \n",
      " 1   Unnamed: 0.1  575 non-null    int64 \n",
      " 2   Unnamed: 0    575 non-null    int64 \n",
      " 3   Events        575 non-null    object\n",
      " 4   Año           575 non-null    int64 \n",
      " 5   sentiment     575 non-null    object\n",
      "dtypes: int64(4), object(2)\n",
      "memory usage: 27.1+ KB\n"
     ]
    }
   ],
   "source": [
    "df_events.info()"
   ]
  },
  {
   "cell_type": "code",
   "execution_count": 4,
   "id": "f0f2c0f8",
   "metadata": {},
   "outputs": [],
   "source": [
    "df_events['Año'] = df_events['Año'].astype('str')"
   ]
  },
  {
   "cell_type": "code",
   "execution_count": 5,
   "id": "e05cf600",
   "metadata": {},
   "outputs": [
    {
     "name": "stdout",
     "output_type": "stream",
     "text": [
      "<class 'pandas.core.frame.DataFrame'>\n",
      "RangeIndex: 575 entries, 0 to 574\n",
      "Data columns (total 6 columns):\n",
      " #   Column        Non-Null Count  Dtype \n",
      "---  ------        --------------  ----- \n",
      " 0   Unnamed: 0.2  575 non-null    int64 \n",
      " 1   Unnamed: 0.1  575 non-null    int64 \n",
      " 2   Unnamed: 0    575 non-null    int64 \n",
      " 3   Events        575 non-null    object\n",
      " 4   Año           575 non-null    object\n",
      " 5   sentiment     575 non-null    object\n",
      "dtypes: int64(3), object(3)\n",
      "memory usage: 27.1+ KB\n"
     ]
    }
   ],
   "source": [
    "df_events.info()"
   ]
  },
  {
   "cell_type": "code",
   "execution_count": 6,
   "id": "6868501c",
   "metadata": {},
   "outputs": [],
   "source": [
    "import sqlalchemy\n",
    "from sqlalchemy import create_engine"
   ]
  },
  {
   "cell_type": "code",
   "execution_count": 7,
   "id": "0cc369a1",
   "metadata": {},
   "outputs": [],
   "source": [
    "DB_SQLITE = 'file_db.db' ##Nombre de como se llamará tu archivo .db"
   ]
  },
  {
   "cell_type": "code",
   "execution_count": 8,
   "id": "3a4b4ec6",
   "metadata": {},
   "outputs": [],
   "source": [
    "# create table from df\n",
    "def to_sql_k(self, frame, name, if_exists='fail', \n",
    "             index=False, index_label=None, schema=None, \n",
    "             chunksize=None, dtype=None, **kwargs):\n",
    "    if dtype is not None:\n",
    "        from sqlalchemy.types import to_instance, TypeEngine\n",
    "        for col, my_type in dtype.items():\n",
    "            if not isinstance(to_instance(my_type), TypeEngine):\n",
    "                raise ValueError('The type of %s is not a SQLAlchemy '\n",
    "                                 'type ' % col)\n",
    "\n",
    "    table = pd.io.sql.SQLTable(name, self, frame=frame, index=index,\n",
    "                               if_exists=if_exists, index_label=index_label,\n",
    "                               schema=schema, dtype=dtype, **kwargs)\n",
    "    table.create()\n",
    "    table.insert(chunksize)"
   ]
  },
  {
   "cell_type": "code",
   "execution_count": 9,
   "id": "0e7f75db",
   "metadata": {},
   "outputs": [],
   "source": [
    "# create table sqlite\n",
    "def to_sqlite(df, name_table):\n",
    "    engine = create_engine(f'sqlite:///{DB_SQLITE}')\n",
    "    pandas_sql = pd.io.sql.pandasSQL_builder(engine, schema=None)\n",
    "\n",
    "    to_sql_k(pandas_sql, frame=df, name=name_table)"
   ]
  },
  {
   "cell_type": "code",
   "execution_count": 10,
   "id": "16876500",
   "metadata": {},
   "outputs": [],
   "source": [
    "to_sqlite(df_events, 'events') ### se llama a la función para crear la tabla people en la bbdd con el contenido del df"
   ]
  },
  {
   "cell_type": "code",
   "execution_count": null,
   "id": "d52d5bef",
   "metadata": {},
   "outputs": [],
   "source": []
  }
 ],
 "metadata": {
  "kernelspec": {
   "display_name": "Python [conda env:m1_ih]",
   "language": "python",
   "name": "conda-env-m1_ih-py"
  },
  "language_info": {
   "codemirror_mode": {
    "name": "ipython",
    "version": 3
   },
   "file_extension": ".py",
   "mimetype": "text/x-python",
   "name": "python",
   "nbconvert_exporter": "python",
   "pygments_lexer": "ipython3",
   "version": "3.9.12"
  }
 },
 "nbformat": 4,
 "nbformat_minor": 5
}
