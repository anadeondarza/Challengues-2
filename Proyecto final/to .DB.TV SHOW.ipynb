{
 "cells": [
  {
   "cell_type": "code",
   "execution_count": 8,
   "id": "1af6f088",
   "metadata": {},
   "outputs": [],
   "source": [
    "import pandas as pd\n",
    "import sqlalchemy\n",
    "from sqlalchemy import create_engine"
   ]
  },
  {
   "cell_type": "code",
   "execution_count": 9,
   "id": "f35b4825",
   "metadata": {},
   "outputs": [],
   "source": [
    "DB_SQLITE = 'file_db.db' ##Nombre de como se llamará tu archivo .db"
   ]
  },
  {
   "cell_type": "code",
   "execution_count": 10,
   "id": "618f11fe",
   "metadata": {},
   "outputs": [],
   "source": [
    "# create table from df\n",
    "def to_sql_k(self, frame, name, if_exists='fail', \n",
    "             index=False, index_label=None, schema=None, \n",
    "             chunksize=None, dtype=None, **kwargs):\n",
    "    if dtype is not None:\n",
    "        from sqlalchemy.types import to_instance, TypeEngine\n",
    "        for col, my_type in dtype.items():\n",
    "            if not isinstance(to_instance(my_type), TypeEngine):\n",
    "                raise ValueError('The type of %s is not a SQLAlchemy '\n",
    "                                 'type ' % col)\n",
    "\n",
    "    table = pd.io.sql.SQLTable(name, self, frame=frame, index=index,\n",
    "                               if_exists=if_exists, index_label=index_label,\n",
    "                               schema=schema, dtype=dtype, **kwargs)\n",
    "    table.create()\n",
    "    table.insert(chunksize)"
   ]
  },
  {
   "cell_type": "code",
   "execution_count": 4,
   "id": "a96e0f13",
   "metadata": {},
   "outputs": [],
   "source": [
    "# create table sqlite\n",
    "def to_sqlite(df, name_table):\n",
    "    engine = create_engine(f'sqlite:///{DB_SQLITE}')\n",
    "    pandas_sql = pd.io.sql.pandasSQL_builder(engine, schema=None)\n",
    "\n",
    "    to_sql_k(pandas_sql, frame=df, name=name_table)"
   ]
  },
  {
   "cell_type": "code",
   "execution_count": 12,
   "id": "32061502",
   "metadata": {},
   "outputs": [],
   "source": [
    "to_sqlite(df_TV_SHOWS, 'TV_SHOWS') ### se llama a la función para crear la tabla people en la bbdd con el contenido del df"
   ]
  },
  {
   "cell_type": "code",
   "execution_count": 11,
   "id": "a85a1111",
   "metadata": {},
   "outputs": [],
   "source": [
    "df_TV_SHOWS = pd.read_csv('/Users/anadeondarza/Desktop/ironhack_data/challenges/Proyecto final/tv_final.csv')"
   ]
  },
  {
   "cell_type": "code",
   "execution_count": null,
   "id": "2693146d",
   "metadata": {},
   "outputs": [],
   "source": []
  },
  {
   "cell_type": "code",
   "execution_count": null,
   "id": "ca938de7",
   "metadata": {},
   "outputs": [],
   "source": []
  },
  {
   "cell_type": "code",
   "execution_count": null,
   "id": "446ea767",
   "metadata": {},
   "outputs": [],
   "source": []
  },
  {
   "cell_type": "code",
   "execution_count": 27,
   "id": "c9ecdc28",
   "metadata": {},
   "outputs": [],
   "source": []
  },
  {
   "cell_type": "code",
   "execution_count": null,
   "id": "5d9790e6",
   "metadata": {},
   "outputs": [],
   "source": []
  },
  {
   "cell_type": "code",
   "execution_count": null,
   "id": "f2db0597",
   "metadata": {},
   "outputs": [],
   "source": []
  },
  {
   "cell_type": "code",
   "execution_count": null,
   "id": "0684fd4d",
   "metadata": {},
   "outputs": [],
   "source": []
  }
 ],
 "metadata": {
  "kernelspec": {
   "display_name": "Python [conda env:m1_ih]",
   "language": "python",
   "name": "conda-env-m1_ih-py"
  },
  "language_info": {
   "codemirror_mode": {
    "name": "ipython",
    "version": 3
   },
   "file_extension": ".py",
   "mimetype": "text/x-python",
   "name": "python",
   "nbconvert_exporter": "python",
   "pygments_lexer": "ipython3",
   "version": "3.9.12"
  }
 },
 "nbformat": 4,
 "nbformat_minor": 5
}
