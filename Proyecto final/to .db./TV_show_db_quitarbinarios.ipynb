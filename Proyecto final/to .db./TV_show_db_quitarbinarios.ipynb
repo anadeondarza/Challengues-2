{
 "cells": [
  {
   "cell_type": "code",
   "execution_count": 1,
   "id": "d2a0410a",
   "metadata": {},
   "outputs": [],
   "source": [
    "import pandas as pd\n",
    "import numpy as np"
   ]
  },
  {
   "cell_type": "code",
   "execution_count": 2,
   "id": "3bc638e4",
   "metadata": {},
   "outputs": [],
   "source": [
    "df_tv = pd.read_csv('/Users/anadeondarza/Desktop/ironhack_data/challenges/Proyecto final/tv_final.csv')"
   ]
  },
  {
   "cell_type": "code",
   "execution_count": 3,
   "id": "14b3d719",
   "metadata": {},
   "outputs": [
    {
     "name": "stdout",
     "output_type": "stream",
     "text": [
      "<class 'pandas.core.frame.DataFrame'>\n",
      "RangeIndex: 6261 entries, 0 to 6260\n",
      "Data columns (total 16 columns):\n",
      " #   Column        Non-Null Count  Dtype \n",
      "---  ------        --------------  ----- \n",
      " 0   Unnamed: 0.2  6261 non-null   int64 \n",
      " 1   Unnamed: 0.1  6261 non-null   int64 \n",
      " 2   Unnamed: 0    6261 non-null   int64 \n",
      " 3   show_id       6261 non-null   object\n",
      " 4   type          6261 non-null   object\n",
      " 5   title         6261 non-null   object\n",
      " 6   director      227 non-null    object\n",
      " 7   cast          3965 non-null   object\n",
      " 8   country       3426 non-null   object\n",
      " 9   release_year  6261 non-null   int64 \n",
      " 10  duration      6261 non-null   object\n",
      " 11  listed_in     6261 non-null   object\n",
      " 12  description   6260 non-null   object\n",
      " 13  all           6261 non-null   object\n",
      " 14  description_  6260 non-null   object\n",
      " 15  sentiment     6261 non-null   object\n",
      "dtypes: int64(4), object(12)\n",
      "memory usage: 782.8+ KB\n"
     ]
    }
   ],
   "source": [
    "df_tv.info()"
   ]
  },
  {
   "cell_type": "code",
   "execution_count": 4,
   "id": "ce599672",
   "metadata": {},
   "outputs": [],
   "source": [
    "df_tv['release_year'] = df_tv['release_year'].astype('str')"
   ]
  },
  {
   "cell_type": "code",
   "execution_count": 6,
   "id": "8066223f",
   "metadata": {},
   "outputs": [
    {
     "name": "stdout",
     "output_type": "stream",
     "text": [
      "<class 'pandas.core.frame.DataFrame'>\n",
      "RangeIndex: 6261 entries, 0 to 6260\n",
      "Data columns (total 16 columns):\n",
      " #   Column        Non-Null Count  Dtype \n",
      "---  ------        --------------  ----- \n",
      " 0   Unnamed: 0.2  6261 non-null   int64 \n",
      " 1   Unnamed: 0.1  6261 non-null   int64 \n",
      " 2   Unnamed: 0    6261 non-null   int64 \n",
      " 3   show_id       6261 non-null   object\n",
      " 4   type          6261 non-null   object\n",
      " 5   title         6261 non-null   object\n",
      " 6   director      227 non-null    object\n",
      " 7   cast          3965 non-null   object\n",
      " 8   country       3426 non-null   object\n",
      " 9   release_year  6261 non-null   object\n",
      " 10  duration      6261 non-null   object\n",
      " 11  listed_in     6261 non-null   object\n",
      " 12  description   6260 non-null   object\n",
      " 13  all           6261 non-null   object\n",
      " 14  description_  6260 non-null   object\n",
      " 15  sentiment     6261 non-null   object\n",
      "dtypes: int64(3), object(13)\n",
      "memory usage: 782.8+ KB\n"
     ]
    }
   ],
   "source": [
    "df_tv.info()"
   ]
  },
  {
   "cell_type": "code",
   "execution_count": 7,
   "id": "eac36e0b",
   "metadata": {},
   "outputs": [],
   "source": [
    "import sqlalchemy\n",
    "from sqlalchemy import create_engine"
   ]
  },
  {
   "cell_type": "code",
   "execution_count": 8,
   "id": "1c9c8161",
   "metadata": {},
   "outputs": [],
   "source": [
    "DB_SQLITE = 'file_db.db' ##Nombre de como se llamará tu archivo .db"
   ]
  },
  {
   "cell_type": "code",
   "execution_count": 9,
   "id": "7e3f4faf",
   "metadata": {},
   "outputs": [],
   "source": [
    "# create table from df\n",
    "def to_sql_k(self, frame, name, if_exists='fail', \n",
    "             index=False, index_label=None, schema=None, \n",
    "             chunksize=None, dtype=None, **kwargs):\n",
    "    if dtype is not None:\n",
    "        from sqlalchemy.types import to_instance, TypeEngine\n",
    "        for col, my_type in dtype.items():\n",
    "            if not isinstance(to_instance(my_type), TypeEngine):\n",
    "                raise ValueError('The type of %s is not a SQLAlchemy '\n",
    "                                 'type ' % col)\n",
    "\n",
    "    table = pd.io.sql.SQLTable(name, self, frame=frame, index=index,\n",
    "                               if_exists=if_exists, index_label=index_label,\n",
    "                               schema=schema, dtype=dtype, **kwargs)\n",
    "    table.create()\n",
    "    table.insert(chunksize)"
   ]
  },
  {
   "cell_type": "code",
   "execution_count": 10,
   "id": "f9cf4444",
   "metadata": {},
   "outputs": [],
   "source": [
    "# create table sqlite\n",
    "def to_sqlite(df, name_table):\n",
    "    engine = create_engine(f'sqlite:///{DB_SQLITE}')\n",
    "    pandas_sql = pd.io.sql.pandasSQL_builder(engine, schema=None)\n",
    "\n",
    "    to_sql_k(pandas_sql, frame=df, name=name_table)"
   ]
  },
  {
   "cell_type": "code",
   "execution_count": 11,
   "id": "9994ea98",
   "metadata": {},
   "outputs": [],
   "source": [
    "to_sqlite(df_tv, 'tv_show') ### se llama a la función para crear la tabla people en la bbdd con el contenido del df"
   ]
  },
  {
   "cell_type": "code",
   "execution_count": null,
   "id": "e91d490e",
   "metadata": {},
   "outputs": [],
   "source": []
  }
 ],
 "metadata": {
  "kernelspec": {
   "display_name": "Python [conda env:m1_ih]",
   "language": "python",
   "name": "conda-env-m1_ih-py"
  },
  "language_info": {
   "codemirror_mode": {
    "name": "ipython",
    "version": 3
   },
   "file_extension": ".py",
   "mimetype": "text/x-python",
   "name": "python",
   "nbconvert_exporter": "python",
   "pygments_lexer": "ipython3",
   "version": "3.9.12"
  }
 },
 "nbformat": 4,
 "nbformat_minor": 5
}
