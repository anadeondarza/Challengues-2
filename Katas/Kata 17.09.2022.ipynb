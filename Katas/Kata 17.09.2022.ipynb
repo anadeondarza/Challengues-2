{
 "cells": [
  {
   "cell_type": "code",
   "execution_count": null,
   "id": "d095b994",
   "metadata": {},
   "outputs": [],
   "source": [
    "SELECT \n",
    "  po.name as product_name,\n",
    "  EXTRACT(year FROM s.date) AS year,\n",
    "  EXTRACT(month FROM s.date) AS month,\n",
    "  EXTRACT(day FROM s.date) AS day,\n",
    "  SUM(sd.count * po.price) as total\n",
    "  \n",
    "FROM sales_details as sd\n",
    "\n",
    "JOIN sales as s ON sd.sale_id = s.id\n",
    "JOIN products as po ON sd.product_id = po.id\n",
    "\n",
    "Group by po.name, ROLLUP (year,month,day)\n",
    "\n",
    "ORDER BY po.name, year, month, day"
   ]
  }
 ],
 "metadata": {
  "kernelspec": {
   "display_name": "Python [conda env:m1_ih]",
   "language": "python",
   "name": "conda-env-m1_ih-py"
  },
  "language_info": {
   "codemirror_mode": {
    "name": "ipython",
    "version": 3
   },
   "file_extension": ".py",
   "mimetype": "text/x-python",
   "name": "python",
   "nbconvert_exporter": "python",
   "pygments_lexer": "ipython3",
   "version": "3.9.12"
  }
 },
 "nbformat": 4,
 "nbformat_minor": 5
}
