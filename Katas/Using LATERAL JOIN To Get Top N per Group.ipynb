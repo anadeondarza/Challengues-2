{
 "cells": [
  {
   "cell_type": "code",
   "execution_count": null,
   "id": "cdae1342",
   "metadata": {},
   "outputs": [],
   "source": [
    "SELECT\n",
    "    c.id AS category_id,\n",
    "    c.category,\n",
    "FROM categories AS c,\n",
    "Left join LATERAL (\n",
    "    SELECT\n",
    "        p.title,\n",
    "        p.views,\n",
    "        p.id,\n",
    "        p.category_id\n",
    "    FROM posts AS p\n",
    "    order by views DESC \n",
    "    LIMIT 2)\n",
    "  ON p.category_id = c.id"
   ]
  }
 ],
 "metadata": {
  "kernelspec": {
   "display_name": "Python [conda env:m1_ih]",
   "language": "python",
   "name": "conda-env-m1_ih-py"
  },
  "language_info": {
   "codemirror_mode": {
    "name": "ipython",
    "version": 3
   },
   "file_extension": ".py",
   "mimetype": "text/x-python",
   "name": "python",
   "nbconvert_exporter": "python",
   "pygments_lexer": "ipython3",
   "version": "3.9.12"
  }
 },
 "nbformat": 4,
 "nbformat_minor": 5
}
