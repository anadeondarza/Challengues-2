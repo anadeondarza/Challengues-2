{
 "cells": [
  {
   "cell_type": "code",
   "execution_count": null,
   "id": "10d4660d",
   "metadata": {},
   "outputs": [],
   "source": [
    "SELECT count(id) as products, country\n",
    "FROM products\n",
    "WHERE country in ('United States of America', 'Canada')\n",
    "GROUP BY country\n",
    "ORDER BY products desc"
   ]
  }
 ],
 "metadata": {
  "kernelspec": {
   "display_name": "Python [conda env:m1_ih]",
   "language": "python",
   "name": "conda-env-m1_ih-py"
  },
  "language_info": {
   "codemirror_mode": {
    "name": "ipython",
    "version": 3
   },
   "file_extension": ".py",
   "mimetype": "text/x-python",
   "name": "python",
   "nbconvert_exporter": "python",
   "pygments_lexer": "ipython3",
   "version": "3.9.12"
  }
 },
 "nbformat": 4,
 "nbformat_minor": 5
}
