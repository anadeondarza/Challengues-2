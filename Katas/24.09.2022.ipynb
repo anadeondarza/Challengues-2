{
 "cells": [
  {
   "cell_type": "code",
   "execution_count": null,
   "id": "6e4731ba",
   "metadata": {},
   "outputs": [],
   "source": [
    "def es_multiplo(n):\n",
    "    list = []\n",
    "    list2 = [i for i in range(n)]\n",
    "    if i < 0:\n",
    "        return 0\n",
    "    else: \n",
    "        for i in list2:\n",
    "            if i % 3 == 0 & i % 5 == 0:\n",
    "                list.append(i)\n",
    "    counter = sum(list)\n",
    "    \n",
    "    return counter"
   ]
  }
 ],
 "metadata": {
  "kernelspec": {
   "display_name": "Python [conda env:m1_ih]",
   "language": "python",
   "name": "conda-env-m1_ih-py"
  },
  "language_info": {
   "codemirror_mode": {
    "name": "ipython",
    "version": 3
   },
   "file_extension": ".py",
   "mimetype": "text/x-python",
   "name": "python",
   "nbconvert_exporter": "python",
   "pygments_lexer": "ipython3",
   "version": "3.9.12"
  }
 },
 "nbformat": 4,
 "nbformat_minor": 5
}
