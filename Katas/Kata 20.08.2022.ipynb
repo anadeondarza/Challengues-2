{
 "cells": [
  {
   "cell_type": "code",
   "execution_count": 1,
   "id": "15935ab0",
   "metadata": {},
   "outputs": [],
   "source": [
    "def battle(player1, player2):\n",
    "    matches = min(len(player1), len(player2))\n",
    "    for match in range(matches):\n",
    "        player1[match], player2[match] = competition(player1[match], player2[match])\n",
    "    player1 = list(filter(lambda x: x is not None, player1))\n",
    "    player2 = list(filter(lambda x: x is not None, player2))\n",
    "    print(player1)\n",
    "    print(player2)\n",
    "    final_dict = {\"player1\": player1, \"player2\": player2}\n",
    "    return final_dict"
   ]
  },
  {
   "cell_type": "code",
   "execution_count": null,
   "id": "e2411eec",
   "metadata": {},
   "outputs": [],
   "source": []
  }
 ],
 "metadata": {
  "kernelspec": {
   "display_name": "Python [conda env:m1_ih]",
   "language": "python",
   "name": "conda-env-m1_ih-py"
  },
  "language_info": {
   "codemirror_mode": {
    "name": "ipython",
    "version": 3
   },
   "file_extension": ".py",
   "mimetype": "text/x-python",
   "name": "python",
   "nbconvert_exporter": "python",
   "pygments_lexer": "ipython3",
   "version": "3.9.12"
  }
 },
 "nbformat": 4,
 "nbformat_minor": 5
}
